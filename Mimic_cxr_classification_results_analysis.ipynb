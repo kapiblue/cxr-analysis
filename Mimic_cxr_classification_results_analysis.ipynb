{
  "cells": [
    {
      "cell_type": "code",
      "execution_count": 100,
      "metadata": {
        "id": "d2lp2t4uLAER"
      },
      "outputs": [],
      "source": [
        "import pandas as pd\n",
        "import numpy as np\n",
        "import matplotlib.pyplot as plt\n",
        "import seaborn as sns"
      ]
    },
    {
      "cell_type": "markdown",
      "metadata": {},
      "source": [
        "### Read the data"
      ]
    },
    {
      "cell_type": "code",
      "execution_count": 101,
      "metadata": {
        "id": "BKR1h8d4MHT4"
      },
      "outputs": [],
      "source": [
        "df = pd.read_csv('Test_set_prediction.csv')"
      ]
    },
    {
      "cell_type": "markdown",
      "metadata": {},
      "source": [
        "Change data types for lower memory consumption and faster processing"
      ]
    },
    {
      "cell_type": "code",
      "execution_count": 102,
      "metadata": {},
      "outputs": [],
      "source": [
        "df['age'] = df['age'].astype('uint8')\n",
        "df['race'] = df['race'].astype('category')\n",
        "df['label_0'] = df['label_0'].astype('uint8')\n",
        "df['label_1'] = df['label_1'].astype('uint8')\n",
        "df['label_2'] = df['label_2'].astype('uint8')\n",
        "df['label_3'] = df['label_3'].astype('uint8')\n",
        "df['label_4'] = df['label_4'].astype('uint8')\n",
        "df['label_5'] = df['label_5'].astype('uint8')"
      ]
    },
    {
      "cell_type": "markdown",
      "metadata": {},
      "source": [
        "Create a profiling report\n",
        "\n",
        "(Optional, generates a nice report)"
      ]
    },
    {
      "cell_type": "code",
      "execution_count": 103,
      "metadata": {},
      "outputs": [],
      "source": [
        "# from ydata_profiling import ProfileReport\n",
        "# profile = ProfileReport(df, title=\"CXR Profiling Report\")\n",
        "# profile\n",
        "# profile.to_file(\"cxr_results_report.html\")"
      ]
    },
    {
      "cell_type": "markdown",
      "metadata": {},
      "source": [
        "### Preliminary analysis"
      ]
    },
    {
      "cell_type": "code",
      "execution_count": 106,
      "metadata": {
        "colab": {
          "base_uri": "https://localhost:8080/"
        },
        "id": "pakRqQ71M5zb",
        "outputId": "e1efe5ca-98f7-4854-a269-bc9d2abe6c90"
      },
      "outputs": [
        {
          "data": {
            "text/html": [
              "<div>\n",
              "<style scoped>\n",
              "    .dataframe tbody tr th:only-of-type {\n",
              "        vertical-align: middle;\n",
              "    }\n",
              "\n",
              "    .dataframe tbody tr th {\n",
              "        vertical-align: top;\n",
              "    }\n",
              "\n",
              "    .dataframe thead th {\n",
              "        text-align: right;\n",
              "    }\n",
              "</style>\n",
              "<table border=\"1\" class=\"dataframe\">\n",
              "  <thead>\n",
              "    <tr style=\"text-align: right;\">\n",
              "      <th></th>\n",
              "      <th>subject_id</th>\n",
              "      <th>age</th>\n",
              "      <th>race</th>\n",
              "      <th>gender</th>\n",
              "      <th>pred_0</th>\n",
              "      <th>label_0</th>\n",
              "      <th>pred_1</th>\n",
              "      <th>label_1</th>\n",
              "      <th>pred_2</th>\n",
              "      <th>label_2</th>\n",
              "      <th>pred_3</th>\n",
              "      <th>label_3</th>\n",
              "      <th>pred_4</th>\n",
              "      <th>label_4</th>\n",
              "      <th>pred_5</th>\n",
              "      <th>label_5</th>\n",
              "    </tr>\n",
              "  </thead>\n",
              "  <tbody>\n",
              "    <tr>\n",
              "      <th>0</th>\n",
              "      <td>11812752</td>\n",
              "      <td>68</td>\n",
              "      <td>WHITE</td>\n",
              "      <td>F</td>\n",
              "      <td>0.056143</td>\n",
              "      <td>0</td>\n",
              "      <td>0.015012</td>\n",
              "      <td>0</td>\n",
              "      <td>0.001175</td>\n",
              "      <td>0</td>\n",
              "      <td>0.004269</td>\n",
              "      <td>0</td>\n",
              "      <td>0.091285</td>\n",
              "      <td>0</td>\n",
              "      <td>0.759478</td>\n",
              "      <td>1</td>\n",
              "    </tr>\n",
              "    <tr>\n",
              "      <th>1</th>\n",
              "      <td>11812752</td>\n",
              "      <td>68</td>\n",
              "      <td>WHITE</td>\n",
              "      <td>F</td>\n",
              "      <td>0.051060</td>\n",
              "      <td>0</td>\n",
              "      <td>0.006028</td>\n",
              "      <td>0</td>\n",
              "      <td>0.001799</td>\n",
              "      <td>0</td>\n",
              "      <td>0.006515</td>\n",
              "      <td>0</td>\n",
              "      <td>0.050387</td>\n",
              "      <td>0</td>\n",
              "      <td>0.863849</td>\n",
              "      <td>1</td>\n",
              "    </tr>\n",
              "    <tr>\n",
              "      <th>2</th>\n",
              "      <td>11812752</td>\n",
              "      <td>68</td>\n",
              "      <td>WHITE</td>\n",
              "      <td>F</td>\n",
              "      <td>0.021372</td>\n",
              "      <td>0</td>\n",
              "      <td>0.004059</td>\n",
              "      <td>0</td>\n",
              "      <td>0.000743</td>\n",
              "      <td>0</td>\n",
              "      <td>0.004475</td>\n",
              "      <td>0</td>\n",
              "      <td>0.092967</td>\n",
              "      <td>0</td>\n",
              "      <td>0.849508</td>\n",
              "      <td>1</td>\n",
              "    </tr>\n",
              "    <tr>\n",
              "      <th>3</th>\n",
              "      <td>11812752</td>\n",
              "      <td>68</td>\n",
              "      <td>WHITE</td>\n",
              "      <td>F</td>\n",
              "      <td>0.031842</td>\n",
              "      <td>0</td>\n",
              "      <td>0.001862</td>\n",
              "      <td>0</td>\n",
              "      <td>0.000797</td>\n",
              "      <td>0</td>\n",
              "      <td>0.006196</td>\n",
              "      <td>0</td>\n",
              "      <td>0.047191</td>\n",
              "      <td>0</td>\n",
              "      <td>0.934808</td>\n",
              "      <td>1</td>\n",
              "    </tr>\n",
              "    <tr>\n",
              "      <th>4</th>\n",
              "      <td>15197921</td>\n",
              "      <td>255</td>\n",
              "      <td>NaN</td>\n",
              "      <td>NaN</td>\n",
              "      <td>0.034598</td>\n",
              "      <td>0</td>\n",
              "      <td>0.010697</td>\n",
              "      <td>0</td>\n",
              "      <td>0.000503</td>\n",
              "      <td>0</td>\n",
              "      <td>0.005243</td>\n",
              "      <td>0</td>\n",
              "      <td>0.077575</td>\n",
              "      <td>0</td>\n",
              "      <td>0.871780</td>\n",
              "      <td>1</td>\n",
              "    </tr>\n",
              "  </tbody>\n",
              "</table>\n",
              "</div>"
            ],
            "text/plain": [
              "   subject_id  age   race gender    pred_0  label_0    pred_1  label_1  \\\n",
              "0    11812752   68  WHITE      F  0.056143        0  0.015012        0   \n",
              "1    11812752   68  WHITE      F  0.051060        0  0.006028        0   \n",
              "2    11812752   68  WHITE      F  0.021372        0  0.004059        0   \n",
              "3    11812752   68  WHITE      F  0.031842        0  0.001862        0   \n",
              "4    15197921  255    NaN    NaN  0.034598        0  0.010697        0   \n",
              "\n",
              "     pred_2  label_2    pred_3  label_3    pred_4  label_4    pred_5  label_5  \n",
              "0  0.001175        0  0.004269        0  0.091285        0  0.759478        1  \n",
              "1  0.001799        0  0.006515        0  0.050387        0  0.863849        1  \n",
              "2  0.000743        0  0.004475        0  0.092967        0  0.849508        1  \n",
              "3  0.000797        0  0.006196        0  0.047191        0  0.934808        1  \n",
              "4  0.000503        0  0.005243        0  0.077575        0  0.871780        1  "
            ]
          },
          "execution_count": 106,
          "metadata": {},
          "output_type": "execute_result"
        }
      ],
      "source": [
        "df.head()\n"
      ]
    },
    {
      "cell_type": "code",
      "execution_count": 107,
      "metadata": {
        "colab": {
          "base_uri": "https://localhost:8080/"
        },
        "id": "7ME2zccmM9uZ",
        "outputId": "8cdf26b4-418a-4705-e5c6-dcbb75bf819c"
      },
      "outputs": [
        {
          "name": "stdout",
          "output_type": "stream",
          "text": [
            "(58386, 16)\n"
          ]
        }
      ],
      "source": [
        "print(df.shape)\n"
      ]
    },
    {
      "cell_type": "code",
      "execution_count": 108,
      "metadata": {
        "colab": {
          "base_uri": "https://localhost:8080/"
        },
        "id": "7m2uwH-FNArf",
        "outputId": "ebd8aa6a-7add-459a-f898-aa033de9d31b"
      },
      "outputs": [
        {
          "name": "stdout",
          "output_type": "stream",
          "text": [
            "Index(['subject_id', 'age', 'race', 'gender', 'pred_0', 'label_0', 'pred_1',\n",
            "       'label_1', 'pred_2', 'label_2', 'pred_3', 'label_3', 'pred_4',\n",
            "       'label_4', 'pred_5', 'label_5'],\n",
            "      dtype='object')\n"
          ]
        }
      ],
      "source": [
        "print(df.columns)\n"
      ]
    },
    {
      "cell_type": "code",
      "execution_count": 109,
      "metadata": {
        "colab": {
          "base_uri": "https://localhost:8080/"
        },
        "id": "PVBKOHrANMzt",
        "outputId": "a1ebe231-514f-414e-f4a7-7391eeb514ed"
      },
      "outputs": [
        {
          "name": "stdout",
          "output_type": "stream",
          "text": [
            "<class 'pandas.core.frame.DataFrame'>\n",
            "RangeIndex: 58386 entries, 0 to 58385\n",
            "Data columns (total 16 columns):\n",
            " #   Column      Non-Null Count  Dtype   \n",
            "---  ------      --------------  -----   \n",
            " 0   subject_id  58386 non-null  int64   \n",
            " 1   age         58386 non-null  uint8   \n",
            " 2   race        50226 non-null  category\n",
            " 3   gender      55547 non-null  object  \n",
            " 4   pred_0      58386 non-null  float64 \n",
            " 5   label_0     58386 non-null  uint8   \n",
            " 6   pred_1      58386 non-null  float64 \n",
            " 7   label_1     58386 non-null  uint8   \n",
            " 8   pred_2      58386 non-null  float64 \n",
            " 9   label_2     58386 non-null  uint8   \n",
            " 10  pred_3      58386 non-null  float64 \n",
            " 11  label_3     58386 non-null  uint8   \n",
            " 12  pred_4      58386 non-null  float64 \n",
            " 13  label_4     58386 non-null  uint8   \n",
            " 14  pred_5      58386 non-null  float64 \n",
            " 15  label_5     58386 non-null  uint8   \n",
            "dtypes: category(1), float64(6), int64(1), object(1), uint8(7)\n",
            "memory usage: 4.0+ MB\n",
            "None\n"
          ]
        }
      ],
      "source": [
        "print(df.info())"
      ]
    },
    {
      "cell_type": "code",
      "execution_count": 110,
      "metadata": {
        "colab": {
          "base_uri": "https://localhost:8080/"
        },
        "id": "UaOwau3jNPtc",
        "outputId": "f34827ef-420f-480d-ee87-7e1f431387b6"
      },
      "outputs": [
        {
          "name": "stdout",
          "output_type": "stream",
          "text": [
            "Subject IDs with all instances having null values in race:\n",
            "[np.int64(15197921), np.int64(10074567), np.int64(19796678), np.int64(12969311), np.int64(19402178), np.int64(16462796), np.int64(10959615), np.int64(10089438), np.int64(17071144), np.int64(10327961), np.int64(16839695), np.int64(18001786), np.int64(16413997), np.int64(11414493), np.int64(13470458), np.int64(12603299), np.int64(19457990), np.int64(17907886), np.int64(15314278), np.int64(10956998), np.int64(10743215), np.int64(15614836), np.int64(16158113), np.int64(18892880), np.int64(14009508), np.int64(10639545), np.int64(11780191), np.int64(13059528), np.int64(10010253), np.int64(15842144), np.int64(15650284), np.int64(19290387), np.int64(19192640), np.int64(15265452), np.int64(18129779), np.int64(13363704), np.int64(15355483), np.int64(13962105), np.int64(18710140), np.int64(10618425), np.int64(11926278), np.int64(19041368), np.int64(19452081), np.int64(19347019), np.int64(12702896), np.int64(15695407), np.int64(10263121), np.int64(11916960), np.int64(14606872), np.int64(13590575), np.int64(10478792), np.int64(16198568), np.int64(16095271), np.int64(17423863), np.int64(16934626), np.int64(10200795), np.int64(12005643), np.int64(16002373), np.int64(18241194), np.int64(16518176), np.int64(17059418), np.int64(13578679), np.int64(14172342), np.int64(13437316), np.int64(17026347), np.int64(19554621), np.int64(17993239), np.int64(11467306), np.int64(16382851), np.int64(13980146), np.int64(15953464), np.int64(15760959), np.int64(11296003), np.int64(12997047), np.int64(13222579), np.int64(11626524), np.int64(13899524), np.int64(18720986), np.int64(14797868), np.int64(15562995), np.int64(17414252), np.int64(11369030), np.int64(18502016), np.int64(17252421), np.int64(16706342), np.int64(16146009), np.int64(15882500), np.int64(16192183), np.int64(11376216), np.int64(10662076), np.int64(10873059), np.int64(11554923), np.int64(14786008), np.int64(13816197), np.int64(17022281), np.int64(13164386), np.int64(16118614), np.int64(12493170), np.int64(13578598), np.int64(19129149), np.int64(13738693), np.int64(15345931), np.int64(17637569), np.int64(13210003), np.int64(12551948), np.int64(19807716), np.int64(12264993), np.int64(17776285), np.int64(17560235), np.int64(17626310), np.int64(17340835), np.int64(16785328), np.int64(14698741), np.int64(15549184), np.int64(10082895), np.int64(13213453), np.int64(15824410), np.int64(14242488), np.int64(13124138), np.int64(16759383), np.int64(14150943), np.int64(11747830), np.int64(10108015), np.int64(19071790), np.int64(14313126), np.int64(14355486), np.int64(19926252), np.int64(17911064), np.int64(18456496), np.int64(12598755), np.int64(14370740), np.int64(13932212), np.int64(13601433), np.int64(10069960), np.int64(12134252), np.int64(13841483), np.int64(16815980), np.int64(13086759), np.int64(17653350), np.int64(12172189), np.int64(11777413), np.int64(10448574), np.int64(11086611), np.int64(16424266), np.int64(19146484), np.int64(17431430), np.int64(11111264), np.int64(16365002), np.int64(11605283), np.int64(12828163), np.int64(10497865), np.int64(15125393), np.int64(15911879), np.int64(12395995), np.int64(16508092), np.int64(11209386), np.int64(13566123), np.int64(10676537), np.int64(10339146), np.int64(17124147), np.int64(19152039), np.int64(10194361), np.int64(19421690), np.int64(15181000), np.int64(12110857), np.int64(11365743), np.int64(17025050), np.int64(10916587), np.int64(17868228), np.int64(17271658), np.int64(12987308), np.int64(12192304), np.int64(14980836), np.int64(13805138), np.int64(16876841), np.int64(11387817), np.int64(16920361), np.int64(18749946), np.int64(14949312), np.int64(13046684), np.int64(19647539), np.int64(17341633), np.int64(15205514), np.int64(11240569), np.int64(16829454), np.int64(10675241), np.int64(10203760), np.int64(15123357), np.int64(13072503), np.int64(15833015), np.int64(17682853), np.int64(17742253), np.int64(11095404), np.int64(12568059), np.int64(16159544), np.int64(14972853), np.int64(16833492), np.int64(10169824), np.int64(11187130), np.int64(13196770), np.int64(19496857), np.int64(17270742), np.int64(13810000), np.int64(16337196), np.int64(14272800), np.int64(15026114), np.int64(19038213), np.int64(14573675), np.int64(17846084), np.int64(19447435), np.int64(17613334), np.int64(16181165), np.int64(19205951), np.int64(11935224), np.int64(11905268), np.int64(17779648), np.int64(11208895), np.int64(10871611), np.int64(19049130), np.int64(16961893), np.int64(14482312), np.int64(14509582), np.int64(13178097), np.int64(14938827), np.int64(13071760), np.int64(16817701), np.int64(11647908), np.int64(17119812), np.int64(14886427), np.int64(17947692), np.int64(12113933), np.int64(19060258), np.int64(13792838), np.int64(17209971), np.int64(17731815), np.int64(14556716), np.int64(13156864), np.int64(10222458), np.int64(10749630), np.int64(16782102), np.int64(19420312), np.int64(11368430), np.int64(13433326), np.int64(16913360), np.int64(16947929), np.int64(13416717), np.int64(11917356), np.int64(16006691), np.int64(19928916), np.int64(16138568), np.int64(19598034), np.int64(19546177), np.int64(13690019), np.int64(15188467), np.int64(14821788), np.int64(17458363), np.int64(13763315), np.int64(14656467), np.int64(11229078), np.int64(12748016), np.int64(14959392), np.int64(16708104), np.int64(18616257), np.int64(17991936), np.int64(12781433), np.int64(12971758), np.int64(15251889), np.int64(12749746), np.int64(14562814), np.int64(15573476), np.int64(17471632), np.int64(10956519), np.int64(14164796), np.int64(10055034), np.int64(18918848), np.int64(19085062), np.int64(17061583), np.int64(16388191), np.int64(10557476), np.int64(10621573), np.int64(11016966), np.int64(16287596), np.int64(17734189), np.int64(14045766), np.int64(18339918), np.int64(14945792), np.int64(10912001), np.int64(14827673), np.int64(16132037), np.int64(11549552), np.int64(12992215), np.int64(14030950), np.int64(15199114), np.int64(12016202), np.int64(15199056), np.int64(19684075), np.int64(15530849), np.int64(19834311), np.int64(19848307), np.int64(10527643), np.int64(16816068), np.int64(10224998), np.int64(12753643), np.int64(19189295), np.int64(19168840), np.int64(19485156), np.int64(16255173), np.int64(16616106), np.int64(17997077), np.int64(14773164), np.int64(16339608), np.int64(13716409), np.int64(11070296), np.int64(19489602), np.int64(10357804), np.int64(18043242), np.int64(18225062), np.int64(13268981), np.int64(15812457), np.int64(16383582), np.int64(19438437), np.int64(18949021), np.int64(11539276), np.int64(12606779), np.int64(18586390), np.int64(17362025), np.int64(12268583), np.int64(11862831), np.int64(14460297), np.int64(12490778), np.int64(17743587), np.int64(11295571), np.int64(12514521), np.int64(12662867), np.int64(19718933), np.int64(13838436), np.int64(17597990), np.int64(10395642), np.int64(12599698), np.int64(13366667), np.int64(19673112), np.int64(19306192), np.int64(18031940), np.int64(17838321), np.int64(12120350), np.int64(11974908), np.int64(15436225), np.int64(15761299), np.int64(18341698), np.int64(14773076), np.int64(19583799), np.int64(14363079), np.int64(15674955), np.int64(15312149), np.int64(14502133), np.int64(15959519), np.int64(13557753), np.int64(16693646), np.int64(11773218), np.int64(18025486), np.int64(16002923), np.int64(17326475), np.int64(15418997), np.int64(11806352), np.int64(16966473), np.int64(13708907), np.int64(14513219), np.int64(18028317), np.int64(13683306), np.int64(13867951), np.int64(18504243), np.int64(13010130), np.int64(18040143), np.int64(15204251), np.int64(14131133), np.int64(10592033), np.int64(15826372), np.int64(16953651), np.int64(15985742), np.int64(13303405), np.int64(19744723), np.int64(13202255), np.int64(18174017), np.int64(11879340), np.int64(14535675), np.int64(15681264), np.int64(18782137), np.int64(19128420), np.int64(15238443), np.int64(13102348), np.int64(14914012), np.int64(18480119), np.int64(14037711), np.int64(17137002), np.int64(15241042), np.int64(10721536), np.int64(10564444), np.int64(19705550), np.int64(18722129), np.int64(14789176), np.int64(11563936), np.int64(13758954), np.int64(18306632), np.int64(18024585), np.int64(14480293), np.int64(12460037), np.int64(14264272), np.int64(12117267), np.int64(13841468), np.int64(18549962), np.int64(14225925), np.int64(19207168), np.int64(10137638), np.int64(11902760), np.int64(14813496), np.int64(14059784), np.int64(17594732), np.int64(19300236), np.int64(14912910), np.int64(19493497), np.int64(15413165), np.int64(12271238), np.int64(14473809), np.int64(17446597), np.int64(17628545), np.int64(15647874), np.int64(12027264), np.int64(11055697), np.int64(15314618), np.int64(16458348), np.int64(15268227), np.int64(12937080), np.int64(19455631), np.int64(11309740), np.int64(17926427), np.int64(18467956), np.int64(10461078), np.int64(16949596), np.int64(10827524), np.int64(17274146), np.int64(13246370), np.int64(17306319), np.int64(19054985), np.int64(13216227), np.int64(18012427), np.int64(11473682), np.int64(11388607), np.int64(14854659), np.int64(19297076), np.int64(17260391), np.int64(15880158), np.int64(19032622), np.int64(12308226), np.int64(18169233), np.int64(13938617), np.int64(15618763), np.int64(15717787), np.int64(12050249), np.int64(15408570), np.int64(10517880), np.int64(13814475), np.int64(11738598), np.int64(13376478), np.int64(11733989), np.int64(10188860), np.int64(17219481), np.int64(14596570), np.int64(10705817), np.int64(17240006), np.int64(15177471), np.int64(18658428), np.int64(14982374), np.int64(12374158), np.int64(14315237), np.int64(14471389), np.int64(11742305), np.int64(14665526), np.int64(17790216), np.int64(15903550), np.int64(18352952), np.int64(13813750), np.int64(13356530), np.int64(15164650), np.int64(15387719), np.int64(15658517), np.int64(19223270), np.int64(18195341), np.int64(10987364), np.int64(13254017), np.int64(15795668), np.int64(13575661), np.int64(19894835), np.int64(19889589), np.int64(19720782), np.int64(18917927), np.int64(19670845), np.int64(17758208), np.int64(10043139), np.int64(13187270), np.int64(13937112), np.int64(10367815), np.int64(16045738), np.int64(10438541), np.int64(11240564), np.int64(17016006), np.int64(17291136), np.int64(18596607), np.int64(18278598), np.int64(15969709), np.int64(18403081), np.int64(19172539), np.int64(17749911), np.int64(10249325), np.int64(10854900), np.int64(13885282), np.int64(14760981), np.int64(13088071), np.int64(15600799), np.int64(19602777), np.int64(14958299), np.int64(12935415), np.int64(18685280), np.int64(15672342), np.int64(18689186), np.int64(18927815), np.int64(17416911), np.int64(19516508), np.int64(19313736), np.int64(12853077), np.int64(10345105), np.int64(14895434), np.int64(18283471), np.int64(11959292), np.int64(14275120), np.int64(17398533), np.int64(11468164), np.int64(13217869), np.int64(12309846), np.int64(10883596), np.int64(19306644), np.int64(17333150), np.int64(18061638), np.int64(12609816), np.int64(14512945), np.int64(12292368), np.int64(11807977), np.int64(16444354), np.int64(18332614), np.int64(16357970), np.int64(12327943), np.int64(12967236), np.int64(14821645), np.int64(14086574), np.int64(12334771), np.int64(13962306), np.int64(12114691), np.int64(12102296), np.int64(14420147), np.int64(16098246), np.int64(19493318), np.int64(19947109), np.int64(15420672), np.int64(19872881), np.int64(10561473), np.int64(16500268), np.int64(13530145), np.int64(13847394), np.int64(16796177), np.int64(10575719), np.int64(19564783), np.int64(15002397), np.int64(18530667), np.int64(12049376), np.int64(18958162), np.int64(18606760), np.int64(12323115), np.int64(13822025), np.int64(16519944), np.int64(13671278), np.int64(18648548), np.int64(15259308), np.int64(17541869), np.int64(16277483), np.int64(16434063), np.int64(14341634), np.int64(15502171), np.int64(12867690), np.int64(18098619), np.int64(14385253), np.int64(18680445), np.int64(11064743), np.int64(13903328), np.int64(17330069), np.int64(17958708), np.int64(11500480), np.int64(19938107), np.int64(10673139), np.int64(10486407), np.int64(19683664), np.int64(11280909), np.int64(13424439), np.int64(13561838), np.int64(18385134), np.int64(16262598), np.int64(11038671), np.int64(19544778), np.int64(13245486), np.int64(10152675), np.int64(17379788), np.int64(10204292), np.int64(17727987), np.int64(17136805), np.int64(11253380), np.int64(10594928), np.int64(13581441), np.int64(14732301), np.int64(12042717), np.int64(10379373), np.int64(15127156), np.int64(16824027), np.int64(19054899), np.int64(13858258), np.int64(14055397), np.int64(19375324), np.int64(18191270), np.int64(15165946), np.int64(10008179), np.int64(16747345), np.int64(15235108), np.int64(10370233), np.int64(17526383), np.int64(14657716), np.int64(18839452), np.int64(15682619), np.int64(15180144), np.int64(14145436), np.int64(19201192), np.int64(14099746), np.int64(10664252), np.int64(18077374), np.int64(19869879), np.int64(17285109), np.int64(18068831), np.int64(19440169), np.int64(16729429), np.int64(10802618), np.int64(15956977), np.int64(19509796), np.int64(16369498), np.int64(11271389), np.int64(16309364), np.int64(16917070), np.int64(12663807), np.int64(12995192), np.int64(11109225), np.int64(15525746), np.int64(19173493), np.int64(12060779), np.int64(18931691), np.int64(16196996), np.int64(19699039), np.int64(12556897), np.int64(18103848), np.int64(18415727), np.int64(16433025), np.int64(14550783), np.int64(15583245), np.int64(17189637), np.int64(15571850), np.int64(13054950), np.int64(17195672), np.int64(17834039), np.int64(14043350), np.int64(11638660), np.int64(18387126), np.int64(12760087), np.int64(16232450), np.int64(16490071), np.int64(11401300), np.int64(15109900), np.int64(15932375), np.int64(17641212), np.int64(17869409), np.int64(11782013), np.int64(13112024), np.int64(13724674), np.int64(13500874), np.int64(10116166), np.int64(13624198), np.int64(19825865), np.int64(13303549), np.int64(15666526), np.int64(17201090), np.int64(17042021), np.int64(19217263), np.int64(12595774), np.int64(15504140), np.int64(15442954), np.int64(17885080), np.int64(19489495), np.int64(10353671), np.int64(15746478), np.int64(15279861), np.int64(11967131), np.int64(18684266), np.int64(11437017), np.int64(11530753), np.int64(17055514), np.int64(15846225), np.int64(14161246), np.int64(16211965), np.int64(17389039), np.int64(12485494), np.int64(12983941), np.int64(18947568), np.int64(16444004), np.int64(19088597), np.int64(18329914), np.int64(17177210), np.int64(16487634), np.int64(14115800), np.int64(10967266), np.int64(10738677), np.int64(16275806), np.int64(11212363), np.int64(17768305), np.int64(17305166), np.int64(13610283), np.int64(16222893), np.int64(15764294), np.int64(12578953), np.int64(19736108), np.int64(11138766), np.int64(16366957), np.int64(18055066), np.int64(14861282), np.int64(13711431), np.int64(10321410), np.int64(17361990), np.int64(12727617), np.int64(12366059), np.int64(19452126), np.int64(16791349), np.int64(19004160), np.int64(14939121), np.int64(10992414), np.int64(12094792), np.int64(13752306), np.int64(16496528), np.int64(17360055), np.int64(18950763), np.int64(14964242), np.int64(18945267), np.int64(10539812), np.int64(18768762), np.int64(13291068), np.int64(18857011), np.int64(18432974), np.int64(12868572), np.int64(10162916), np.int64(16729864), np.int64(13303439), np.int64(19943631), np.int64(11099310), np.int64(17231910), np.int64(19450775), np.int64(10389718), np.int64(17619816), np.int64(19193670), np.int64(18070789), np.int64(11522650), np.int64(18131047), np.int64(13279939), np.int64(15506950), np.int64(13591511), np.int64(11637525), np.int64(15261324), np.int64(15327789), np.int64(12135605), np.int64(13950275), np.int64(10330049), np.int64(19819628), np.int64(13539462), np.int64(19424684), np.int64(15073068), np.int64(16803653), np.int64(10378282), np.int64(18670100), np.int64(18982586), np.int64(15335393), np.int64(13177223), np.int64(12690341), np.int64(12978106), np.int64(18388773), np.int64(16588831), np.int64(15184438), np.int64(19020344), np.int64(16653717), np.int64(16472704), np.int64(13732835), np.int64(19015061), np.int64(13037417), np.int64(17437625), np.int64(10933450), np.int64(16622443), np.int64(12224514), np.int64(15518232), np.int64(14358890), np.int64(17309968), np.int64(11292711), np.int64(17966934), np.int64(10715477), np.int64(13165314), np.int64(18990213), np.int64(17868562), np.int64(15914007), np.int64(16262495), np.int64(19562202), np.int64(11891753), np.int64(11958670), np.int64(19989869), np.int64(10846158), np.int64(14659941), np.int64(14322724), np.int64(19815083), np.int64(10059615), np.int64(12141631), np.int64(13254000), np.int64(18614086), np.int64(13540340), np.int64(19191973), np.int64(15386262), np.int64(13832739), np.int64(18353394), np.int64(11897950), np.int64(14886832), np.int64(17263628), np.int64(16459944), np.int64(14455701), np.int64(14862170), np.int64(13215255), np.int64(15434659), np.int64(10452735), np.int64(14756599), np.int64(17409672), np.int64(16758549), np.int64(15636551), np.int64(16017566), np.int64(17799408), np.int64(12141193), np.int64(12353474), np.int64(14306850), np.int64(11456419), np.int64(15173008), np.int64(11951977), np.int64(19406999), np.int64(10280803), np.int64(19741512), np.int64(19033937), np.int64(12820960), np.int64(12900439), np.int64(18620001), np.int64(19167466), np.int64(17642170), np.int64(15602637), np.int64(12186652), np.int64(13302354), np.int64(11620300), np.int64(17135770), np.int64(14032070), np.int64(19547734), np.int64(11610947), np.int64(19128751), np.int64(12921789), np.int64(13522297), np.int64(18770600), np.int64(15901051), np.int64(15585423), np.int64(16286577), np.int64(15108733), np.int64(19978006), np.int64(19015552), np.int64(16981503), np.int64(12871021), np.int64(12870674), np.int64(16512514), np.int64(17332003), np.int64(18277735), np.int64(15540577), np.int64(16987846), np.int64(15092692), np.int64(15503242), np.int64(12152384), np.int64(12214965), np.int64(14969321), np.int64(19866653), np.int64(13620661), np.int64(16540576), np.int64(17654721), np.int64(17960150), np.int64(17214016), np.int64(12467119), np.int64(18583079), np.int64(19634283), np.int64(19099842), np.int64(16059791), np.int64(13416326), np.int64(18145746), np.int64(12813986), np.int64(12071087), np.int64(14171574), np.int64(19381763), np.int64(15067584), np.int64(11427229), np.int64(18111072), np.int64(19219254), np.int64(14206476), np.int64(10905552), np.int64(14211964), np.int64(10522265), np.int64(16012771), np.int64(11570876), np.int64(12348317), np.int64(19017113), np.int64(16265536), np.int64(17908914), np.int64(14147380), np.int64(10536343), np.int64(19449307), np.int64(15286742), np.int64(10576772), np.int64(17851460), np.int64(12396158), np.int64(13531117), np.int64(18085033), np.int64(18183203), np.int64(13429471), np.int64(17715336), np.int64(15987955), np.int64(14218678), np.int64(19197258), np.int64(16124075), np.int64(13874236), np.int64(11645218), np.int64(16014537), np.int64(15383299), np.int64(19341913), np.int64(13189021), np.int64(10174592), np.int64(16273070), np.int64(15925462), np.int64(12544468), np.int64(17632590), np.int64(13429359), np.int64(16315165), np.int64(17005339), np.int64(17100972), np.int64(12630493), np.int64(17626903), np.int64(12287487), np.int64(10433079), np.int64(15562294), np.int64(10616358), np.int64(18622374), np.int64(10645688), np.int64(16909225), np.int64(13866602), np.int64(16571831), np.int64(15159175), np.int64(12027497), np.int64(19541848), np.int64(19689677), np.int64(15502960), np.int64(13403633), np.int64(14318921), np.int64(16458905), np.int64(13387485), np.int64(16531317), np.int64(16722845), np.int64(18597622), np.int64(14733259), np.int64(11704848), np.int64(17697825), np.int64(13669323), np.int64(15716392), np.int64(15160304), np.int64(13113399), np.int64(18905909), np.int64(18871802), np.int64(18271444), np.int64(11674792), np.int64(12630342), np.int64(10955253), np.int64(11647666), np.int64(15009769), np.int64(12573234), np.int64(18277393), np.int64(19732610), np.int64(11266941), np.int64(18330375), np.int64(13159395), np.int64(15070070), np.int64(17012776), np.int64(11003196), np.int64(14857763), np.int64(14059830), np.int64(10136187), np.int64(12033200), np.int64(11927869), np.int64(10594807), np.int64(13487512), np.int64(10156648), np.int64(12459600), np.int64(14621370), np.int64(12847495), np.int64(12983112), np.int64(19122004), np.int64(10207998), np.int64(18995399), np.int64(11990385), np.int64(16831093), np.int64(13012863), np.int64(12532059), np.int64(14453326), np.int64(10843878), np.int64(19171670), np.int64(11738518), np.int64(12444275), np.int64(15025695), np.int64(14948860), np.int64(10001122), np.int64(12744219), np.int64(14659770), np.int64(15075367), np.int64(19536283), np.int64(16645664), np.int64(12884219), np.int64(19937489), np.int64(19307612), np.int64(13436936), np.int64(12616255), np.int64(10895735), np.int64(11109478), np.int64(14189473), np.int64(11775902), np.int64(17810477), np.int64(10253049), np.int64(11779599), np.int64(19190224), np.int64(16377754), np.int64(19519356), np.int64(13312421), np.int64(16749774), np.int64(11538711), np.int64(14020069), np.int64(13747128), np.int64(11855103), np.int64(16839894), np.int64(16068977), np.int64(15897411), np.int64(17269688), np.int64(15913707), np.int64(13174181), np.int64(19652962), np.int64(18238335), np.int64(11423592), np.int64(10105449), np.int64(17758508), np.int64(14018427), np.int64(18433657), np.int64(19979738), np.int64(16058837), np.int64(16012275), np.int64(14225670), np.int64(12232085), np.int64(14472495), np.int64(15247445), np.int64(16459532), np.int64(14971628), np.int64(15771003), np.int64(12742898), np.int64(16457243), np.int64(13819169), np.int64(12233560), np.int64(17254052), np.int64(13664344), np.int64(15684046), np.int64(16536777), np.int64(13917573), np.int64(15692820), np.int64(19928686), np.int64(11135350), np.int64(11656118), np.int64(13758036), np.int64(18777971), np.int64(12641071), np.int64(12806522), np.int64(12012417), np.int64(16037448), np.int64(13729281), np.int64(18614145), np.int64(17863269), np.int64(17093393), np.int64(12783250), np.int64(13725781), np.int64(13335623), np.int64(12332206), np.int64(19472734), np.int64(14856814), np.int64(17178637), np.int64(12645758), np.int64(18536624), np.int64(15294564), np.int64(18958630), np.int64(10046503), np.int64(14261619), np.int64(13667295), np.int64(15782393), np.int64(13726175), np.int64(19865164), np.int64(12132455), np.int64(15201119), np.int64(11863590), np.int64(13030629), np.int64(15483934), np.int64(17618440), np.int64(10404416), np.int64(14589276), np.int64(14975146), np.int64(15791079), np.int64(18246673), np.int64(14225283), np.int64(11722594), np.int64(17852827), np.int64(14201063), np.int64(19036514), np.int64(16076346), np.int64(13236615), np.int64(12682754), np.int64(15085283), np.int64(19505255), np.int64(14193709), np.int64(13824936), np.int64(14308660), np.int64(13957347), np.int64(15498123), np.int64(12000894), np.int64(18035288), np.int64(15026164), np.int64(17333426), np.int64(18415643), np.int64(12426983), np.int64(14520335), np.int64(14546931), np.int64(11379746), np.int64(10995373), np.int64(19916418), np.int64(16378932), np.int64(10177827), np.int64(11785016), np.int64(19991424), np.int64(11931603), np.int64(18049716), np.int64(16130122), np.int64(16324879), np.int64(12996965), np.int64(16970429), np.int64(18895007), np.int64(19131059), np.int64(11558309), np.int64(15394482), np.int64(16035378), np.int64(10460305), np.int64(12233437), np.int64(11254872), np.int64(17542702), np.int64(11978174), np.int64(11596230), np.int64(12244016), np.int64(15437358), np.int64(12660582), np.int64(15440499), np.int64(13974246), np.int64(11101301), np.int64(13898586), np.int64(12795601), np.int64(10669378), np.int64(12449468), np.int64(19267529), np.int64(11692040), np.int64(18463780), np.int64(14900776), np.int64(16205579), np.int64(12361482), np.int64(15714858), np.int64(12753045), np.int64(16089800), np.int64(10330191), np.int64(15341410), np.int64(12076632), np.int64(19238821), np.int64(12967247), np.int64(16802900), np.int64(11867412), np.int64(14691081), np.int64(19914235), np.int64(15952108), np.int64(11617223), np.int64(16946698), np.int64(13468776), np.int64(15120551), np.int64(18947574), np.int64(11066522), np.int64(11355379), np.int64(13768562), np.int64(12651874), np.int64(10774151), np.int64(16793843), np.int64(10578946), np.int64(19420476), np.int64(18759740), np.int64(12335993), np.int64(13628290), np.int64(15760873), np.int64(10050790), np.int64(15841225), np.int64(15823371), np.int64(13939712), np.int64(18337352), np.int64(15743237), np.int64(18358319), np.int64(14127988), np.int64(16960460), np.int64(14169770), np.int64(14023402), np.int64(18029845), np.int64(19122429), np.int64(15290263), np.int64(18900842), np.int64(17942590), np.int64(10673200), np.int64(19857967), np.int64(15622572), np.int64(11254598), np.int64(17088793), np.int64(10180823), np.int64(14297989), np.int64(18619287), np.int64(16050451), np.int64(18328083), np.int64(18986746), np.int64(13503022), np.int64(10259739), np.int64(18694613), np.int64(11109427), np.int64(18768948), np.int64(12233834), np.int64(16601818), np.int64(10076549), np.int64(15605860), np.int64(19209555), np.int64(11024504), np.int64(10467003), np.int64(15414354), np.int64(10269064), np.int64(18350751), np.int64(19257005), np.int64(16542415), np.int64(16768345), np.int64(12540254), np.int64(14693680), np.int64(10094496), np.int64(17899640), np.int64(15906346), np.int64(12313968), np.int64(13102433), np.int64(13496430), np.int64(15317502), np.int64(10721016), np.int64(18284128), np.int64(16587522), np.int64(12794458), np.int64(19762992), np.int64(15408118), np.int64(18137951), np.int64(13881165), np.int64(18191091), np.int64(12658064), np.int64(10139914), np.int64(19476145), np.int64(18380327), np.int64(12509711), np.int64(15905226), np.int64(12371823), np.int64(10342177), np.int64(15688849), np.int64(12154616), np.int64(10598628), np.int64(11543836), np.int64(19688313), np.int64(15613764), np.int64(17853154), np.int64(17097939), np.int64(17470447), np.int64(16131289), np.int64(17472813), np.int64(16710341), np.int64(19418840), np.int64(16850130), np.int64(17472845), np.int64(17516453), np.int64(12301829), np.int64(15762943), np.int64(13160307), np.int64(14349434), np.int64(13107879), np.int64(19319240), np.int64(14057989), np.int64(19622821), np.int64(19308749), np.int64(19961444), np.int64(10043339), np.int64(11425510), np.int64(16202888), np.int64(17076467), np.int64(17954085), np.int64(11147303), np.int64(12284185), np.int64(11490177), np.int64(16674801), np.int64(18705300), np.int64(11040153), np.int64(13836677), np.int64(17069680), np.int64(16521752), np.int64(14345849), np.int64(16883374), np.int64(17824031), np.int64(10840138), np.int64(12483723), np.int64(10534438), np.int64(13494992), np.int64(15174955), np.int64(10793735), np.int64(10126619), np.int64(13649612), np.int64(11016289), np.int64(16514873), np.int64(17372169), np.int64(15464764), np.int64(17808408), np.int64(18049964), np.int64(17134999), np.int64(10490588), np.int64(11383297), np.int64(18800173), np.int64(19344801), np.int64(14005687), np.int64(17139932), np.int64(15986781), np.int64(18863704), np.int64(19473292), np.int64(18360135), np.int64(16836206), np.int64(18769189), np.int64(11208333), np.int64(11941858), np.int64(13773700), np.int64(13473069), np.int64(11465959), np.int64(17964477), np.int64(13805077), np.int64(19615614), np.int64(19711973), np.int64(12793357), np.int64(13128146), np.int64(19201469), np.int64(19389826), np.int64(15386880), np.int64(17046074), np.int64(10137289), np.int64(15502423), np.int64(18720247), np.int64(12778579), np.int64(12100936), np.int64(15235699), np.int64(14417042), np.int64(16559111), np.int64(16976843), np.int64(16969421), np.int64(17217407), np.int64(19717308), np.int64(19089380), np.int64(10512506), np.int64(16972833), np.int64(10400969), np.int64(18304033), np.int64(13869863), np.int64(15311917), np.int64(17713431), np.int64(12413596), np.int64(18525488), np.int64(11753351), np.int64(13614432), np.int64(14572685), np.int64(16196501), np.int64(10192535), np.int64(18742609), np.int64(17950056), np.int64(15613043), np.int64(15028929), np.int64(14520873), np.int64(19084557), np.int64(14573148), np.int64(11369097), np.int64(18237497), np.int64(11683664), np.int64(16063753), np.int64(12219506), np.int64(12897643), np.int64(19548136), np.int64(13512152), np.int64(10862230), np.int64(18170296), np.int64(11915208), np.int64(13342486), np.int64(11522027), np.int64(13614046), np.int64(15568681), np.int64(17170377), np.int64(15266116), np.int64(12752217), np.int64(14436685), np.int64(19985036), np.int64(12350123), np.int64(17784114), np.int64(18825602), np.int64(17074257), np.int64(16725314), np.int64(17637826), np.int64(12009813), np.int64(14414707), np.int64(13122394), np.int64(10276139), np.int64(19547184), np.int64(18415898), np.int64(18450217), np.int64(15446534), np.int64(11994172), np.int64(13158938), np.int64(17479625), np.int64(19522488), np.int64(13436649), np.int64(19837239), np.int64(17204237), np.int64(13156293), np.int64(16818596), np.int64(13950298), np.int64(16975530), np.int64(15384973), np.int64(14190554), np.int64(14471276), np.int64(13225250), np.int64(10089831), np.int64(19074360), np.int64(19946155), np.int64(14998572), np.int64(17183027), np.int64(16818936), np.int64(18713939), np.int64(18791670), np.int64(13692152), np.int64(19681867), np.int64(19494334), np.int64(14697602), np.int64(17174421), np.int64(15317275), np.int64(14808507), np.int64(15514299), np.int64(10694435), np.int64(19252919), np.int64(10596044), np.int64(10952982), np.int64(17658477), np.int64(13567360), np.int64(10218887), np.int64(12509505), np.int64(11528941), np.int64(16416544), np.int64(14330963), np.int64(11077309), np.int64(11125370), np.int64(19274731), np.int64(14425707), np.int64(19403366), np.int64(12927133), np.int64(19524582), np.int64(19985612), np.int64(14589347), np.int64(19742200), np.int64(18488102), np.int64(11778436), np.int64(11838858), np.int64(14730883), np.int64(11564555), np.int64(17131436), np.int64(18398347), np.int64(10841616), np.int64(13159535), np.int64(19093276), np.int64(15629821), np.int64(12404639), np.int64(13627384), np.int64(11604850), np.int64(10654958), np.int64(19565843), np.int64(15723794), np.int64(14966394), np.int64(18233606), np.int64(19840392), np.int64(13084447), np.int64(16724018), np.int64(13110959), np.int64(13811748), np.int64(11631396), np.int64(18816617), np.int64(15783128), np.int64(19835122), np.int64(14312973), np.int64(12010128), np.int64(11754440), np.int64(16255401), np.int64(19422903), np.int64(10794783), np.int64(12759077), np.int64(14753577), np.int64(19985469), np.int64(12385564), np.int64(17964836), np.int64(18695355), np.int64(14361092), np.int64(10511871), np.int64(18256464), np.int64(13698331), np.int64(12222872), np.int64(13545158), np.int64(17457871), np.int64(13659708), np.int64(19946917), np.int64(17824707), np.int64(16443070), np.int64(19637888), np.int64(17387101), np.int64(17247299), np.int64(11863815), np.int64(13765779), np.int64(18302268), np.int64(13408318), np.int64(19616701), np.int64(10767172), np.int64(19024854), np.int64(11504166), np.int64(10239015), np.int64(18863136), np.int64(18461911), np.int64(19377482), np.int64(10215542), np.int64(12317554), np.int64(12458345), np.int64(11865423), np.int64(17371876), np.int64(12499502), np.int64(19406663), np.int64(18364983), np.int64(12323587), np.int64(18017850), np.int64(12817225), np.int64(12548658), np.int64(16919146), np.int64(15565909), np.int64(18165789), np.int64(16286692), np.int64(10280627), np.int64(14097166), np.int64(13397962), np.int64(15108795), np.int64(15717186), np.int64(16772251), np.int64(14042268), np.int64(15046040), np.int64(19301386), np.int64(12959465), np.int64(12275102), np.int64(11837638), np.int64(17617605), np.int64(14858801), np.int64(10456204), np.int64(10794265), np.int64(16168889), np.int64(13930488), np.int64(18637535), np.int64(12094747), np.int64(18709910), np.int64(10129384), np.int64(19835232), np.int64(12643221), np.int64(15787637), np.int64(15851968), np.int64(18962874), np.int64(12623888), np.int64(18770942), np.int64(10429629), np.int64(18668726), np.int64(11270870), np.int64(18943313), np.int64(13783135), np.int64(15633967), np.int64(14769018), np.int64(13446564), np.int64(17373059), np.int64(18401224), np.int64(18926447), np.int64(13082256), np.int64(12501743), np.int64(11383692), np.int64(16976334), np.int64(10903124), np.int64(15471630), np.int64(17486525), np.int64(10636056), np.int64(15568547), np.int64(19330439), np.int64(17970764), np.int64(19285811), np.int64(13657785), np.int64(19698469), np.int64(15750446), np.int64(18135208), np.int64(15191759), np.int64(13209909), np.int64(18230008), np.int64(15816544), np.int64(19263380), np.int64(18107967), np.int64(12985283), np.int64(15429151), np.int64(13935661), np.int64(10828701), np.int64(18664284), np.int64(19517927), np.int64(13844820), np.int64(14975402), np.int64(10490732), np.int64(19048404), np.int64(19765588), np.int64(12412955), np.int64(11097521), np.int64(11670014), np.int64(14795241), np.int64(17493649), np.int64(14524073), np.int64(12842991), np.int64(19157316), np.int64(13924600), np.int64(12739018), np.int64(13659261), np.int64(10122606), np.int64(17781244), np.int64(17013576), np.int64(19540887), np.int64(19541033), np.int64(10611217), np.int64(12521767), np.int64(16777014), np.int64(17173272), np.int64(18008471), np.int64(15638790), np.int64(11651245), np.int64(16618603), np.int64(19322142), np.int64(12770671), np.int64(10147901), np.int64(10714043), np.int64(15748814), np.int64(13858821), np.int64(11394517), np.int64(12547983), np.int64(12529934), np.int64(19605342), np.int64(19181583), np.int64(17268748), np.int64(16316424), np.int64(19902536), np.int64(12619416), np.int64(11483984), np.int64(17673136), np.int64(10921047), np.int64(12300965), np.int64(19018709), np.int64(17225302), np.int64(14641605), np.int64(15928051), np.int64(15574056), np.int64(11408283), np.int64(17910879), np.int64(18106824), np.int64(11451979), np.int64(13164911), np.int64(11100917), np.int64(17680375), np.int64(14042337), np.int64(10750676), np.int64(10084245), np.int64(16252838), np.int64(12261287), np.int64(16907530), np.int64(12474721), np.int64(16590829), np.int64(14182166), np.int64(13807155), np.int64(10996546), np.int64(19247418), np.int64(17248489), np.int64(19738268), np.int64(10174198), np.int64(18222244), np.int64(16596300), np.int64(18000735), np.int64(13627001), np.int64(12997624), np.int64(14527993), np.int64(17681149), np.int64(14789688), np.int64(18333109), np.int64(14362735), np.int64(12841950), np.int64(11508844), np.int64(12618003), np.int64(12936752), np.int64(11016268), np.int64(18555345), np.int64(17154455), np.int64(15415488), np.int64(19000445), np.int64(13060171), np.int64(13417862), np.int64(11791660), np.int64(12972508), np.int64(15592123), np.int64(18450387), np.int64(18540052), np.int64(18524158), np.int64(19628078), np.int64(19452811), np.int64(18126476), np.int64(15783273), np.int64(18035935), np.int64(17799900), np.int64(15952594), np.int64(18189909), np.int64(15650948), np.int64(17987980), np.int64(10326833), np.int64(11779212), np.int64(13792612), np.int64(18839066), np.int64(11488104), np.int64(19764829), np.int64(16800099), np.int64(11501481), np.int64(11240642), np.int64(16212013), np.int64(13144491), np.int64(16506495), np.int64(11210944), np.int64(16179044), np.int64(14100625), np.int64(16285559), np.int64(18490806), np.int64(10044316), np.int64(12086409), np.int64(19257983), np.int64(16470569), np.int64(10311659), np.int64(16924520), np.int64(18368837), np.int64(14495609), np.int64(11702926), np.int64(18394858), np.int64(19319442), np.int64(17477199), np.int64(10476603), np.int64(14766230), np.int64(17334175), np.int64(14619068), np.int64(15019589), np.int64(18718997), np.int64(14383088), np.int64(13121043), np.int64(10267699), np.int64(13641239), np.int64(14129410), np.int64(13949444), np.int64(14694781), np.int64(16052655), np.int64(16107662), np.int64(15461098), np.int64(17843410), np.int64(10114715), np.int64(11129129), np.int64(17907865), np.int64(16813112), np.int64(10471399), np.int64(16723965), np.int64(15716850), np.int64(15334431), np.int64(15617379), np.int64(14228640), np.int64(16124721), np.int64(15048939), np.int64(17524921), np.int64(16938948), np.int64(12560005), np.int64(11475402), np.int64(14311371), np.int64(18592842), np.int64(12222328), np.int64(19780044), np.int64(11911440), np.int64(15742341), np.int64(13969072), np.int64(12564998), np.int64(15169826), np.int64(16666253), np.int64(17721514), np.int64(13079621), np.int64(13371072), np.int64(15045940), np.int64(12122321), np.int64(19041879), np.int64(18433643), np.int64(14006869), np.int64(10071070), np.int64(14823236), np.int64(12066929), np.int64(16582471), np.int64(13814246), np.int64(11778630), np.int64(17213899), np.int64(18172063), np.int64(10132988), np.int64(19055155), np.int64(16294972), np.int64(13733102), np.int64(10956255), np.int64(14302681), np.int64(11400985), np.int64(11089978), np.int64(12852795), np.int64(14685811), np.int64(13346389), np.int64(17487197), np.int64(10779234), np.int64(18371528), np.int64(16959617), np.int64(11966112), np.int64(10315733), np.int64(13447384), np.int64(16468274), np.int64(10805247), np.int64(15270413), np.int64(10835247), np.int64(15681517), np.int64(11728917), np.int64(13165193), np.int64(10818133), np.int64(18611625), np.int64(10166896), np.int64(13323877), np.int64(16933132), np.int64(12964524), np.int64(12868764), np.int64(15963078), np.int64(15553779), np.int64(11017221), np.int64(18871641), np.int64(15812404), np.int64(10335822), np.int64(16887683), np.int64(15946401), np.int64(16527757), np.int64(15514517), np.int64(17346015), np.int64(10129015), np.int64(15591377), np.int64(10070226), np.int64(10168039), np.int64(15140206), np.int64(16945005), np.int64(19735567), np.int64(16497592), np.int64(16719230), np.int64(10097491), np.int64(12445999), np.int64(16642578), np.int64(14346046), np.int64(19580975), np.int64(19322666), np.int64(11952653), np.int64(15144652), np.int64(11485146), np.int64(17700562), np.int64(17771517), np.int64(16897793), np.int64(18744061), np.int64(16143638), np.int64(12340570), np.int64(19059527), np.int64(14359914), np.int64(18815551), np.int64(19755137), np.int64(13798952), np.int64(14016360), np.int64(12993430), np.int64(18130702), np.int64(14185546), np.int64(12159562), np.int64(19444218), np.int64(11992504), np.int64(10420727), np.int64(17093128), np.int64(12838419), np.int64(18889316), np.int64(10842709), np.int64(12147946), np.int64(15866400), np.int64(15916021), np.int64(13180956), np.int64(13367279), np.int64(18243641), np.int64(10500745), np.int64(16595369), np.int64(15860692), np.int64(14357506), np.int64(19186556), np.int64(13387139), np.int64(19476423), np.int64(16294063), np.int64(16074700), np.int64(17687050), np.int64(18562330), np.int64(14629458), np.int64(10470882), np.int64(17075570), np.int64(10711252), np.int64(10341234), np.int64(11198679), np.int64(11995391), np.int64(17945220), np.int64(10034899), np.int64(15649265), np.int64(19021540), np.int64(19546340), np.int64(13952511), np.int64(14435207), np.int64(16805329), np.int64(19956182), np.int64(11912473), np.int64(10677418), np.int64(12690962), np.int64(13256974), np.int64(15935311), np.int64(18490450), np.int64(14692345), np.int64(12172254), np.int64(18962190), np.int64(19722498), np.int64(15321234), np.int64(10656227), np.int64(11191509), np.int64(19776632), np.int64(15554237), np.int64(14704668), np.int64(15528196), np.int64(19902170), np.int64(16273489), np.int64(12617013), np.int64(15650273), np.int64(17385766), np.int64(13945522), np.int64(14792673), np.int64(11412387), np.int64(12336471), np.int64(16477254), np.int64(17404300), np.int64(10661055), np.int64(17290295), np.int64(16887109), np.int64(12763077), np.int64(17600927), np.int64(16128042), np.int64(12487989), np.int64(13417435), np.int64(11492725), np.int64(18981235), np.int64(19719420), np.int64(15973854), np.int64(13117452), np.int64(14836250), np.int64(17683188), np.int64(13493232), np.int64(18927967), np.int64(10401318), np.int64(18790903), np.int64(19743313), np.int64(16874153), np.int64(13038218), np.int64(17941912), np.int64(14291751), np.int64(10052802), np.int64(18083580), np.int64(13487882), np.int64(12459873), np.int64(15579947), np.int64(12565234), np.int64(15912251), np.int64(17848508), np.int64(16911502), np.int64(19987030), np.int64(18586186), np.int64(14163275), np.int64(15712521), np.int64(11291839), np.int64(13349392), np.int64(15151064), np.int64(12192631), np.int64(13057060), np.int64(12951485), np.int64(12795623), np.int64(16778367), np.int64(18093624), np.int64(15037491), np.int64(11462430), np.int64(17425246), np.int64(14974675), np.int64(12153085), np.int64(14350845), np.int64(14416441), np.int64(13314609), np.int64(11167924), np.int64(11567329), np.int64(18830808), np.int64(19785654), np.int64(16137977), np.int64(16085653), np.int64(18138374), np.int64(18213062), np.int64(15003289), np.int64(16624988), np.int64(17241854), np.int64(14389463), np.int64(13171334), np.int64(17454872), np.int64(16252973), np.int64(18846991), np.int64(19368328), np.int64(18432672), np.int64(15361393), np.int64(16344057), np.int64(13859753), np.int64(14157488), np.int64(16564614), np.int64(13828043), np.int64(12058117), np.int64(10481689), np.int64(13863368), np.int64(19718981), np.int64(19918209), np.int64(10516757), np.int64(14150730), np.int64(11693493), np.int64(12009176), np.int64(13459991), np.int64(19073134), np.int64(13068461), np.int64(11034703), np.int64(11495769), np.int64(12621124), np.int64(14735232), np.int64(12828138), np.int64(14919311), np.int64(15421738), np.int64(14208232), np.int64(19025684), np.int64(19837736), np.int64(13304076), np.int64(11527122), np.int64(19884410), np.int64(14378037), np.int64(18475941), np.int64(16764083), np.int64(10321441), np.int64(16513871), np.int64(14390782), np.int64(18085955), np.int64(10439029), np.int64(15931189), np.int64(13565066), np.int64(17577668), np.int64(11793184), np.int64(15609636), np.int64(16474416), np.int64(16582235), np.int64(11322350), np.int64(13005302), np.int64(15462369), np.int64(12384115), np.int64(11364643), np.int64(19205563), np.int64(13636985), np.int64(13349284), np.int64(16050017), np.int64(13892137), np.int64(10283185), np.int64(15198128), np.int64(19871388), np.int64(13817667), np.int64(16719057), np.int64(13069346), np.int64(15699764), np.int64(10688902), np.int64(17463105), np.int64(13666330), np.int64(19425224), np.int64(18946180), np.int64(11436026), np.int64(11297695), np.int64(12116463), np.int64(12765429), np.int64(11249512), np.int64(15909860), np.int64(17729604), np.int64(12640052), np.int64(16843870), np.int64(10342963), np.int64(15969667), np.int64(13866306), np.int64(16799390), np.int64(16399426), np.int64(18904560), np.int64(19970833), np.int64(15399629), np.int64(14285022), np.int64(16716905), np.int64(18299200), np.int64(19123832), np.int64(10452248), np.int64(10853799), np.int64(19599163), np.int64(15740880), np.int64(10840861), np.int64(14478108), np.int64(17642299), np.int64(18364116), np.int64(11977439), np.int64(14637950), np.int64(10508385), np.int64(19041173), np.int64(18297072), np.int64(13100809), np.int64(16651923), np.int64(14900183), np.int64(17948467), np.int64(16120845), np.int64(16615623), np.int64(17702253), np.int64(17848364), np.int64(13941662), np.int64(10464173), np.int64(14121990), np.int64(15831652), np.int64(10715666), np.int64(13808991), np.int64(13724069), np.int64(18781675), np.int64(14814675), np.int64(18322779), np.int64(12519264), np.int64(10508100), np.int64(19796796), np.int64(14463300), np.int64(19500912), np.int64(14726125), np.int64(17423145), np.int64(14981525), np.int64(18808007), np.int64(10869765), np.int64(14751706), np.int64(19549257), np.int64(14611704), np.int64(18716233), np.int64(19878083), np.int64(13016529), np.int64(11317040), np.int64(18929246), np.int64(17483062), np.int64(19164622), np.int64(10558268), np.int64(18405979), np.int64(14028996), np.int64(12979264), np.int64(13882160), np.int64(12052192), np.int64(12527294), np.int64(12472677), np.int64(17904716), np.int64(12509219), np.int64(14330727), np.int64(18496173), np.int64(18719277), np.int64(11726103), np.int64(13974790), np.int64(18763173), np.int64(12393800), np.int64(12031842), np.int64(18037884), np.int64(13604891), np.int64(17395829), np.int64(11349790), np.int64(16780358), np.int64(19869712), np.int64(10900239), np.int64(19613616), np.int64(13520071), np.int64(19507911), np.int64(13006587), np.int64(13482115), np.int64(18278187), np.int64(10560372), np.int64(17147966), np.int64(18118373), np.int64(14308263), np.int64(14088377), np.int64(13935961), np.int64(16807686), np.int64(15310905), np.int64(17516073), np.int64(18515327), np.int64(11601822), np.int64(15014631), np.int64(16372499), np.int64(13397160), np.int64(19534200), np.int64(14736864), np.int64(19395930), np.int64(17763335), np.int64(15833341), np.int64(14877163), np.int64(10964727), np.int64(19634895), np.int64(16793736), np.int64(10402299), np.int64(18351325), np.int64(14663105), np.int64(10722375), np.int64(19246384), np.int64(17173895), np.int64(15932963), np.int64(16612273), np.int64(10798752), np.int64(17980485), np.int64(15575425), np.int64(10810096), np.int64(12343431), np.int64(13585733), np.int64(19963862), np.int64(16198388), np.int64(14850160), np.int64(10226308), np.int64(13061930), np.int64(16745340), np.int64(17462756), np.int64(13308047), np.int64(19041107), np.int64(14598091), np.int64(19037636), np.int64(14189848), np.int64(17404906), np.int64(15596774), np.int64(11271531), np.int64(14171162), np.int64(17025663), np.int64(15128117), np.int64(12893999), np.int64(15118021), np.int64(10869295), np.int64(11506732), np.int64(18001649), np.int64(12895467), np.int64(19746167), np.int64(10283054), np.int64(14521707), np.int64(12390285), np.int64(13695529), np.int64(18890616), np.int64(13713889), np.int64(19834564), np.int64(14460836), np.int64(17881139), np.int64(13730084), np.int64(14330158), np.int64(11376978), np.int64(17761975), np.int64(10709938), np.int64(13303716), np.int64(13304059), np.int64(15322246), np.int64(14779189), np.int64(14018432), np.int64(10695084), np.int64(19434164), np.int64(14676316), np.int64(17221238), np.int64(14494823), np.int64(18890834), np.int64(10675670), np.int64(15533068), np.int64(11338251), np.int64(10561380), np.int64(13419340), np.int64(18270562), np.int64(13782031), np.int64(10278517), np.int64(12936618), np.int64(16275260), np.int64(19905713), np.int64(12192030), np.int64(18028180), np.int64(18255912), np.int64(13521831), np.int64(12249636), np.int64(16979475), np.int64(14789720), np.int64(12922412), np.int64(10643530), np.int64(12493265), np.int64(15153971), np.int64(17331457), np.int64(13916460), np.int64(12481586), np.int64(11038022), np.int64(15185051), np.int64(11483526), np.int64(11237430), np.int64(14304611), np.int64(16822208), np.int64(12341904), np.int64(19598965), np.int64(12471372), np.int64(18625553), np.int64(17082842), np.int64(14790422), np.int64(18876259), np.int64(17100368), np.int64(17614521), np.int64(17840257), np.int64(15077764), np.int64(18648965), np.int64(19584988), np.int64(15578212), np.int64(11865991), np.int64(14376861), np.int64(13450173), np.int64(13853261), np.int64(10352329), np.int64(13265444), np.int64(16809392), np.int64(13719437), np.int64(18381202), np.int64(15225960), np.int64(17823018), np.int64(19550486), np.int64(14176612), np.int64(10239172), np.int64(13126379), np.int64(11134957), np.int64(15094321), np.int64(14058557), np.int64(12108497), np.int64(12645310), np.int64(13648292), np.int64(10783838), np.int64(15750849), np.int64(14908040), np.int64(17021453), np.int64(14844038), np.int64(16721186), np.int64(12454017), np.int64(11862131), np.int64(17180456), np.int64(12583218), np.int64(19475214), np.int64(17304251), np.int64(17406590), np.int64(16675957), np.int64(17204160), np.int64(10724015), np.int64(19300534), np.int64(16600987), np.int64(13471581), np.int64(13573972), np.int64(18198172), np.int64(10793180), np.int64(16899534), np.int64(17597660), np.int64(15531550), np.int64(10395649), np.int64(16870725), np.int64(14021635), np.int64(17420771), np.int64(14329813), np.int64(18979654), np.int64(14041814), np.int64(16016098), np.int64(11996766), np.int64(15806029), np.int64(13509433), np.int64(16950496), np.int64(14369987), np.int64(18961303), np.int64(19059038), np.int64(12579444), np.int64(15358025), np.int64(15243543), np.int64(18728763), np.int64(16822956), np.int64(11683484), np.int64(16415605), np.int64(16588120), np.int64(17947399), np.int64(15705793), np.int64(16927031), np.int64(18098547), np.int64(11227532), np.int64(14791580), np.int64(10391182), np.int64(15787595), np.int64(16977493), np.int64(13048804), np.int64(13519279), np.int64(15175193), np.int64(19606815), np.int64(16865670), np.int64(15463031), np.int64(11863164), np.int64(18007196), np.int64(10427787), np.int64(12850552), np.int64(17077898), np.int64(18023823), np.int64(10224999), np.int64(17098651), np.int64(12420277), np.int64(10279447), np.int64(14552708), np.int64(10858046), np.int64(15195239), np.int64(13053009), np.int64(18642924), np.int64(19983369), np.int64(11509035), np.int64(12376720), np.int64(14485086), np.int64(16207691), np.int64(12466486), np.int64(10753211), np.int64(12989570), np.int64(10795257), np.int64(11848412), np.int64(16956808), np.int64(12200013), np.int64(17776423), np.int64(10640234), np.int64(14519338), np.int64(19020083), np.int64(15498277), np.int64(12386157), np.int64(16387844), np.int64(11255953), np.int64(13209577), np.int64(18518397), np.int64(11610955), np.int64(17224716), np.int64(10785675), np.int64(19036318), np.int64(14644232), np.int64(10132550), np.int64(17340658), np.int64(13812053), np.int64(13130429), np.int64(12992465), np.int64(17619853), np.int64(12929008), np.int64(15104234), np.int64(17999882), np.int64(13333702), np.int64(13627314), np.int64(15579082), np.int64(12575991), np.int64(10184378), np.int64(15019050), np.int64(14286858), np.int64(15439543), np.int64(19227210), np.int64(16276285), np.int64(19228423), np.int64(12249865), np.int64(15137874), np.int64(15200162), np.int64(17883860), np.int64(14748591), np.int64(12951247), np.int64(12838095), np.int64(18659772), np.int64(14902579), np.int64(16855117), np.int64(11870399), np.int64(14846114), np.int64(13600583), np.int64(16820801), np.int64(13911122), np.int64(18209677), np.int64(15955387), np.int64(11283470), np.int64(17202750), np.int64(18919791), np.int64(13187449), np.int64(12570311), np.int64(16605047), np.int64(19867995), np.int64(19524417), np.int64(18596560), np.int64(11785828), np.int64(12309600), np.int64(14993081), np.int64(11333253), np.int64(18808512), np.int64(10328843), np.int64(10727301), np.int64(12747179), np.int64(10892023), np.int64(16981603), np.int64(15615259), np.int64(11347967), np.int64(18824188), np.int64(17614057), np.int64(14264306), np.int64(18372501), np.int64(10309614), np.int64(16352133), np.int64(15657021), np.int64(14419388), np.int64(18769460), np.int64(16056788), np.int64(17322057), np.int64(19490968), np.int64(14912944), np.int64(15705977), np.int64(14639442), np.int64(12908943), np.int64(15108002), np.int64(12614920), np.int64(15003969), np.int64(19033949), np.int64(19409493), np.int64(17563982), np.int64(15882369), np.int64(14900292), np.int64(18434583), np.int64(18075898), np.int64(19022682), np.int64(10057178), np.int64(17238191), np.int64(16911902), np.int64(19286100), np.int64(14364553), np.int64(10770659), np.int64(10493040), np.int64(11563883), np.int64(15426186), np.int64(17732105), np.int64(12264051), np.int64(17112351), np.int64(14662273), np.int64(18242823), np.int64(13034273), np.int64(10003255), np.int64(19860141), np.int64(17002153), np.int64(14246614), np.int64(13445884), np.int64(13269006), np.int64(13486720), np.int64(19651929), np.int64(12082406), np.int64(17060452), np.int64(17741641), np.int64(17565130), np.int64(17229533), np.int64(10472048), np.int64(12011160), np.int64(19436429), np.int64(14064075), np.int64(16386802), np.int64(13648858), np.int64(16108064), np.int64(12759495), np.int64(16759428), np.int64(13706609), np.int64(18105656), np.int64(10259270), np.int64(12405200), np.int64(14852143), np.int64(17379346), np.int64(14338924), np.int64(18513879), np.int64(18392778), np.int64(19065347), np.int64(19753019), np.int64(17870013), np.int64(12639572), np.int64(12226611), np.int64(10424251), np.int64(15741932), np.int64(10540288), np.int64(18879745), np.int64(19525678), np.int64(19496373), np.int64(12655864), np.int64(15147005), np.int64(12791910), np.int64(12150026), np.int64(17546174), np.int64(12232668), np.int64(17799273), np.int64(11139755), np.int64(12796240), np.int64(11422043), np.int64(11105244), np.int64(19772219), np.int64(16891101), np.int64(16445279), np.int64(18749620), np.int64(13685288), np.int64(12259778), np.int64(16542577), np.int64(17896889), np.int64(19743260), np.int64(13173768), np.int64(16802373), np.int64(19951574), np.int64(14176606), np.int64(17052771), np.int64(16139536), np.int64(16924884), np.int64(14260070), np.int64(18930748), np.int64(18945287), np.int64(15023500), np.int64(16144726), np.int64(13313630), np.int64(12009327), np.int64(14793590), np.int64(19716330), np.int64(13998653), np.int64(11750822), np.int64(10620507), np.int64(15070972), np.int64(19714126), np.int64(10995826), np.int64(10537184), np.int64(15789653), np.int64(18979163), np.int64(18482774), np.int64(11947503), np.int64(12012748), np.int64(12629841), np.int64(14248693), np.int64(16884283), np.int64(10577215), np.int64(17661489), np.int64(19056452), np.int64(13736637), np.int64(12014571), np.int64(19809627), np.int64(17606139), np.int64(10750776), np.int64(10332649), np.int64(12420352), np.int64(10623263), np.int64(14755523), np.int64(15448953), np.int64(13943354), np.int64(17672176), np.int64(12247387), np.int64(17690942), np.int64(10839205), np.int64(12545775), np.int64(13833086), np.int64(10208611), np.int64(13422616), np.int64(18167038), np.int64(15669501), np.int64(19128645), np.int64(19570608), np.int64(15267742), np.int64(15646342), np.int64(17179494), np.int64(10675446), np.int64(13822537), np.int64(14515352), np.int64(17821700), np.int64(16774006), np.int64(19591762), np.int64(19273319), np.int64(14174539), np.int64(17549883), np.int64(12422400), np.int64(15862442), np.int64(17243504), np.int64(19702298), np.int64(12855227), np.int64(11739453), np.int64(19819504), np.int64(13906874), np.int64(18753516), np.int64(14009236), np.int64(19088150), np.int64(18102930), np.int64(10489720), np.int64(17414709), np.int64(12033847), np.int64(18700598), np.int64(13096682), np.int64(13993838), np.int64(18471802), np.int64(16358697), np.int64(18892570), np.int64(11651985), np.int64(17348388), np.int64(10068157), np.int64(16202556), np.int64(14425123), np.int64(17531113), np.int64(15904912), np.int64(16338268), np.int64(10316609), np.int64(16217465), np.int64(17781263), np.int64(11093073), np.int64(12360515), np.int64(12913282), np.int64(10271316)]\n",
            "Count: 2763\n",
            "\n",
            "Subject IDs with all instances having null values in gender:\n",
            "[np.int64(15197921), np.int64(17907886), np.int64(10743215), np.int64(14009508), np.int64(10010253), np.int64(19290387), np.int64(19192640), np.int64(10618425), np.int64(14606872), np.int64(10478792), np.int64(12005643), np.int64(18241194), np.int64(17059418), np.int64(14172342), np.int64(13437316), np.int64(17026347), np.int64(17993239), np.int64(11296003), np.int64(18720986), np.int64(15562995), np.int64(11369030), np.int64(16146009), np.int64(15882500), np.int64(14786008), np.int64(13816197), np.int64(13210003), np.int64(19807716), np.int64(15824410), np.int64(11747830), np.int64(17911064), np.int64(18456496), np.int64(14370740), np.int64(13601433), np.int64(16365002), np.int64(12828163), np.int64(10497865), np.int64(10676537), np.int64(17124147), np.int64(19421690), np.int64(12110857), np.int64(17025050), np.int64(12987308), np.int64(12192304), np.int64(11387817), np.int64(18749946), np.int64(14949312), np.int64(17341633), np.int64(11240569), np.int64(10675241), np.int64(17682853), np.int64(17270742), np.int64(15026114), np.int64(14573675), np.int64(19447435), np.int64(11208895), np.int64(14938827), np.int64(16817701), np.int64(11647908), np.int64(17119812), np.int64(19060258), np.int64(17731815), np.int64(13156864), np.int64(19928916), np.int64(15188467), np.int64(17458363), np.int64(13763315), np.int64(14656467), np.int64(11229078), np.int64(15573476), np.int64(14164796), np.int64(10055034), np.int64(19085062), np.int64(17061583), np.int64(17734189), np.int64(14827673), np.int64(19485156), np.int64(13716409), np.int64(13268981), np.int64(18949021), np.int64(11539276), np.int64(13838436), np.int64(17597990), np.int64(10395642), np.int64(12599698), np.int64(18031940), np.int64(15418997), np.int64(13708907), np.int64(18504243), np.int64(15985742), np.int64(11879340), np.int64(19128420), np.int64(13102348), np.int64(17137002), np.int64(19705550), np.int64(14789176), np.int64(13758954), np.int64(18306632), np.int64(13841468), np.int64(11902760), np.int64(17594732), np.int64(19493497), np.int64(14473809), np.int64(17446597), np.int64(17628545), np.int64(12027264), np.int64(11055697), np.int64(15314618), np.int64(15268227), np.int64(14854659), np.int64(15880158), np.int64(18169233), np.int64(13938617), np.int64(15795668), np.int64(19894835), np.int64(19720782), np.int64(10438541), np.int64(18278598), np.int64(15969709), np.int64(19172539), np.int64(17749911), np.int64(18685280), np.int64(19313736), np.int64(12853077), np.int64(12609816), np.int64(11807977), np.int64(19947109), np.int64(16500268), np.int64(18530667), np.int64(18958162), np.int64(18606760), np.int64(12323115), np.int64(16277483), np.int64(12867690), np.int64(14385253), np.int64(13903328), np.int64(11500480), np.int64(19938107), np.int64(19683664), np.int64(13424439), np.int64(13561838), np.int64(16262598), np.int64(10152675), np.int64(12042717), np.int64(16824027), np.int64(19054899), np.int64(14055397), np.int64(19375324), np.int64(10008179), np.int64(16747345), np.int64(15235108), np.int64(17526383), np.int64(15180144), np.int64(10664252), np.int64(19869879), np.int64(10802618), np.int64(11271389), np.int64(12663807), np.int64(11109225), np.int64(18103848), np.int64(18415727), np.int64(16433025), np.int64(11638660), np.int64(16490071), np.int64(15932375), np.int64(13500874), np.int64(10116166), np.int64(17201090), np.int64(15442954), np.int64(19489495), np.int64(11967131), np.int64(11530753), np.int64(15846225), np.int64(14161246), np.int64(16444004), np.int64(19088597), np.int64(10738677), np.int64(11212363), np.int64(14861282), np.int64(12727617), np.int64(19452126), np.int64(16496528), np.int64(17360055), np.int64(10539812), np.int64(16729864), np.int64(11099310), np.int64(15327789), np.int64(10330049), np.int64(19424684), np.int64(10378282), np.int64(10715477), np.int64(13165314), np.int64(16262495), np.int64(15386262), np.int64(14886832), np.int64(16459944), np.int64(15434659), np.int64(12141193), np.int64(10280803), np.int64(12820960), np.int64(17642170), np.int64(13302354), np.int64(11610947), np.int64(12214965), np.int64(13620661), np.int64(17214016), np.int64(18583079), np.int64(16059791), np.int64(12813986), np.int64(11427229), np.int64(10522265), np.int64(14147380), np.int64(15286742), np.int64(12396158), np.int64(15987955), np.int64(10174592), np.int64(15925462), np.int64(13429359), np.int64(17100972), np.int64(12630493), np.int64(12287487), np.int64(10433079), np.int64(18622374), np.int64(16909225), np.int64(13866602), np.int64(14318921), np.int64(13387485), np.int64(14733259), np.int64(11704848), np.int64(17697825), np.int64(18871802), np.int64(18271444), np.int64(10955253), np.int64(18277393), np.int64(11266941), np.int64(17012776), np.int64(14059830), np.int64(10136187), np.int64(12033200), np.int64(11927869), np.int64(10594807), np.int64(12847495), np.int64(10843878), np.int64(11738518), np.int64(12444275), np.int64(19536283), np.int64(12616255), np.int64(19519356), np.int64(13312421), np.int64(13747128), np.int64(13174181), np.int64(19979738), np.int64(16459532), np.int64(11135350), np.int64(12012417), np.int64(17093393), np.int64(13725781), np.int64(19472734), np.int64(18536624), np.int64(15294564), np.int64(18958630), np.int64(19865164), np.int64(12132455), np.int64(15201119), np.int64(14975146), np.int64(18246673), np.int64(13236615), np.int64(13824936), np.int64(14308660), np.int64(12000894), np.int64(18415643), np.int64(14520335), np.int64(11379746), np.int64(16324879), np.int64(12996965), np.int64(17542702), np.int64(12449468), np.int64(12361482), np.int64(12753045), np.int64(12967247), np.int64(15952108), np.int64(18947574), np.int64(11066522), np.int64(11355379), np.int64(12651874), np.int64(16793843), np.int64(10578946), np.int64(19420476), np.int64(10050790), np.int64(15743237), np.int64(18358319), np.int64(15290263), np.int64(11254598), np.int64(18328083), np.int64(10259739), np.int64(15605860), np.int64(18350751), np.int64(14693680), np.int64(19762992), np.int64(18137951), np.int64(13881165), np.int64(12658064), np.int64(18380327), np.int64(12509711), np.int64(12371823), np.int64(10342177), np.int64(15688849), np.int64(10598628), np.int64(11543836), np.int64(15762943), np.int64(14349434), np.int64(14057989), np.int64(11040153), np.int64(14345849), np.int64(16883374), np.int64(12483723), np.int64(10534438), np.int64(10793735), np.int64(15464764), np.int64(19344801), np.int64(11208333), np.int64(11465959), np.int64(19389826), np.int64(15386880), np.int64(17046074), np.int64(14417042), np.int64(16969421), np.int64(10512506), np.int64(16972833), np.int64(13869863), np.int64(14572685), np.int64(15613043), np.int64(14573148), np.int64(16063753), np.int64(18170296), np.int64(12350123), np.int64(17784114), np.int64(14414707), np.int64(19547184), np.int64(15446534), np.int64(17479625), np.int64(19837239), np.int64(15384973), np.int64(14190554), np.int64(14471276), np.int64(14998572), np.int64(14697602), np.int64(11528941), np.int64(16416544), np.int64(19742200), np.int64(11778436), np.int64(17131436), np.int64(15629821), np.int64(13627384), np.int64(11604850), np.int64(13811748), np.int64(14312973), np.int64(16255401), np.int64(19422903), np.int64(12759077), np.int64(19985469), np.int64(17964836), np.int64(14361092), np.int64(18256464), np.int64(10767172), np.int64(11865423), np.int64(12499502), np.int64(12817225), np.int64(14097166), np.int64(13397962), np.int64(14042268), np.int64(15046040), np.int64(19835232), np.int64(12643221), np.int64(15787637), np.int64(18962874), np.int64(18770942), np.int64(10429629), np.int64(14769018), np.int64(18401224), np.int64(10903124), np.int64(18230008), np.int64(15816544), np.int64(10828701), np.int64(18664284), np.int64(19517927), np.int64(19765588), np.int64(17493649), np.int64(13659261), np.int64(10611217), np.int64(12521767), np.int64(18008471), np.int64(15638790), np.int64(11394517), np.int64(12547983), np.int64(12529934), np.int64(19902536), np.int64(15574056), np.int64(17910879), np.int64(11451979), np.int64(11100917), np.int64(14182166), np.int64(10174198), np.int64(18222244), np.int64(12936752), np.int64(11016268), np.int64(15783273), np.int64(10326833), np.int64(16800099), np.int64(13144491), np.int64(11210944), np.int64(14100625), np.int64(16285559), np.int64(19257983), np.int64(10311659), np.int64(17477199), np.int64(10476603), np.int64(14129410), np.int64(13949444), np.int64(16813112), np.int64(15716850), np.int64(15617379), np.int64(16124721), np.int64(12560005), np.int64(11475402), np.int64(12222328), np.int64(19041879), np.int64(13733102), np.int64(18371528), np.int64(16959617), np.int64(10315733), np.int64(16468274), np.int64(10805247), np.int64(11728917), np.int64(10818133), np.int64(16933132), np.int64(15963078), np.int64(11017221), np.int64(10335822), np.int64(15946401), np.int64(16527757), np.int64(10129015), np.int64(16945005), np.int64(16719230), np.int64(10097491), np.int64(19580975), np.int64(19322666), np.int64(19059527), np.int64(19755137), np.int64(12993430), np.int64(14185546), np.int64(12159562), np.int64(19444218), np.int64(11992504), np.int64(10842709), np.int64(15860692), np.int64(14357506), np.int64(16074700), np.int64(11198679), np.int64(13952511), np.int64(19956182), np.int64(11912473), np.int64(13256974), np.int64(15935311), np.int64(18490450), np.int64(14692345), np.int64(12172254), np.int64(15321234), np.int64(19776632), np.int64(16273489), np.int64(17385766), np.int64(11412387), np.int64(12487989), np.int64(10401318), np.int64(19743313), np.int64(17941912), np.int64(19987030), np.int64(18586186), np.int64(15712521), np.int64(13057060), np.int64(12795623), np.int64(12153085), np.int64(14416441), np.int64(11167924), np.int64(16085653), np.int64(14389463), np.int64(18846991), np.int64(19368328), np.int64(16344057), np.int64(13859753), np.int64(14157488), np.int64(10481689), np.int64(13459991), np.int64(11495769), np.int64(14208232), np.int64(18085955), np.int64(15462369), np.int64(13636985), np.int64(13666330), np.int64(15909860), np.int64(12640052), np.int64(16843870), np.int64(16399426), np.int64(19599163), np.int64(14478108), np.int64(11977439), np.int64(19041173), np.int64(16651923), np.int64(17848364), np.int64(14121990), np.int64(10715666), np.int64(10508100), np.int64(19500912), np.int64(14726125), np.int64(18808007), np.int64(17483062), np.int64(14028996), np.int64(13882160), np.int64(12052192), np.int64(12472677), np.int64(12393800), np.int64(12031842), np.int64(19613616), np.int64(13520071), np.int64(18278187), np.int64(17147966), np.int64(18118373), np.int64(13935961), np.int64(15310905), np.int64(17516073), np.int64(19534200), np.int64(17763335), np.int64(10402299), np.int64(14663105), np.int64(15932963), np.int64(13308047), np.int64(19037636), np.int64(11271531), np.int64(18001649), np.int64(19746167), np.int64(14521707), np.int64(14460836), np.int64(11376978), np.int64(10695084), np.int64(19434164), np.int64(10561380), np.int64(18270562), np.int64(18028180), np.int64(14789720), np.int64(10643530), np.int64(17331457), np.int64(15185051), np.int64(11237430), np.int64(16822208), np.int64(12471372), np.int64(17840257), np.int64(15578212), np.int64(16809392), np.int64(13719437), np.int64(19550486), np.int64(13126379), np.int64(11134957), np.int64(12108497), np.int64(12645310), np.int64(14908040), np.int64(16721186), np.int64(11862131), np.int64(12583218), np.int64(16675957), np.int64(18198172), np.int64(17597660), np.int64(17420771), np.int64(14041814), np.int64(15358025), np.int64(18728763), np.int64(16415605), np.int64(15705793), np.int64(14791580), np.int64(15787595), np.int64(13519279), np.int64(15175193), np.int64(19606815), np.int64(16865670), np.int64(11863164), np.int64(10224999), np.int64(15195239), np.int64(11509035), np.int64(14485086), np.int64(16956808), np.int64(17776423), np.int64(14519338), np.int64(19020083), np.int64(15498277), np.int64(16387844), np.int64(13209577), np.int64(17224716), np.int64(12992465), np.int64(17619853), np.int64(14286858), np.int64(16276285), np.int64(19228423), np.int64(12249865), np.int64(15137874), np.int64(14748591), np.int64(18659772), np.int64(15955387), np.int64(11283470), np.int64(18919791), np.int64(16605047), np.int64(19867995), np.int64(10328843), np.int64(10727301), np.int64(16981603), np.int64(15615259), np.int64(16352133), np.int64(15657021), np.int64(14419388), np.int64(18769460), np.int64(17322057), np.int64(14639442), np.int64(19409493), np.int64(17238191), np.int64(17732105), np.int64(17112351), np.int64(19860141), np.int64(17002153), np.int64(14246614), np.int64(13269006), np.int64(13486720), np.int64(19436429), np.int64(16386802), np.int64(16108064), np.int64(16759428), np.int64(10259270), np.int64(12405200), np.int64(18392778), np.int64(19753019), np.int64(17870013), np.int64(15741932), np.int64(19496373), np.int64(12232668), np.int64(11139755), np.int64(16891101), np.int64(16445279), np.int64(17896889), np.int64(17052771), np.int64(16139536), np.int64(16924884), np.int64(14260070), np.int64(18930748), np.int64(16144726), np.int64(13998653), np.int64(15070972), np.int64(10577215), np.int64(17661489), np.int64(13736637), np.int64(19809627), np.int64(10750776), np.int64(15448953), np.int64(10839205), np.int64(13833086), np.int64(13422616), np.int64(19128645), np.int64(15646342), np.int64(10675446), np.int64(14515352), np.int64(19591762), np.int64(17549883), np.int64(12422400), np.int64(13906874), np.int64(18753516), np.int64(10489720), np.int64(18700598), np.int64(13096682), np.int64(18471802), np.int64(17531113), np.int64(15904912), np.int64(16338268), np.int64(12913282), np.int64(10271316)]\n",
            "Count: 679\n",
            "\n",
            "Subject IDs with all instances having null values in both race and gender:\n",
            "[np.int64(15197921), np.int64(17907886), np.int64(10743215), np.int64(14009508), np.int64(10010253), np.int64(19290387), np.int64(19192640), np.int64(10618425), np.int64(14606872), np.int64(10478792), np.int64(12005643), np.int64(18241194), np.int64(17059418), np.int64(14172342), np.int64(13437316), np.int64(17026347), np.int64(17993239), np.int64(11296003), np.int64(18720986), np.int64(15562995), np.int64(11369030), np.int64(16146009), np.int64(15882500), np.int64(14786008), np.int64(13816197), np.int64(13210003), np.int64(19807716), np.int64(15824410), np.int64(11747830), np.int64(17911064), np.int64(18456496), np.int64(14370740), np.int64(13601433), np.int64(16365002), np.int64(12828163), np.int64(10497865), np.int64(10676537), np.int64(17124147), np.int64(19421690), np.int64(12110857), np.int64(17025050), np.int64(12987308), np.int64(12192304), np.int64(11387817), np.int64(18749946), np.int64(14949312), np.int64(17341633), np.int64(11240569), np.int64(10675241), np.int64(17682853), np.int64(17270742), np.int64(15026114), np.int64(14573675), np.int64(19447435), np.int64(11208895), np.int64(14938827), np.int64(16817701), np.int64(11647908), np.int64(17119812), np.int64(19060258), np.int64(17731815), np.int64(13156864), np.int64(19928916), np.int64(15188467), np.int64(17458363), np.int64(13763315), np.int64(14656467), np.int64(11229078), np.int64(15573476), np.int64(14164796), np.int64(10055034), np.int64(19085062), np.int64(17061583), np.int64(17734189), np.int64(14827673), np.int64(19485156), np.int64(13716409), np.int64(13268981), np.int64(18949021), np.int64(11539276), np.int64(13838436), np.int64(17597990), np.int64(10395642), np.int64(12599698), np.int64(18031940), np.int64(15418997), np.int64(13708907), np.int64(18504243), np.int64(15985742), np.int64(11879340), np.int64(19128420), np.int64(13102348), np.int64(17137002), np.int64(19705550), np.int64(14789176), np.int64(13758954), np.int64(18306632), np.int64(13841468), np.int64(11902760), np.int64(17594732), np.int64(19493497), np.int64(14473809), np.int64(17446597), np.int64(17628545), np.int64(12027264), np.int64(11055697), np.int64(15314618), np.int64(15268227), np.int64(14854659), np.int64(15880158), np.int64(18169233), np.int64(13938617), np.int64(15795668), np.int64(19894835), np.int64(19720782), np.int64(10438541), np.int64(18278598), np.int64(15969709), np.int64(19172539), np.int64(17749911), np.int64(18685280), np.int64(19313736), np.int64(12853077), np.int64(12609816), np.int64(11807977), np.int64(19947109), np.int64(16500268), np.int64(18530667), np.int64(18958162), np.int64(18606760), np.int64(12323115), np.int64(16277483), np.int64(12867690), np.int64(14385253), np.int64(13903328), np.int64(11500480), np.int64(19938107), np.int64(19683664), np.int64(13424439), np.int64(13561838), np.int64(16262598), np.int64(10152675), np.int64(12042717), np.int64(16824027), np.int64(19054899), np.int64(14055397), np.int64(19375324), np.int64(10008179), np.int64(16747345), np.int64(15235108), np.int64(17526383), np.int64(15180144), np.int64(10664252), np.int64(19869879), np.int64(10802618), np.int64(11271389), np.int64(12663807), np.int64(11109225), np.int64(18103848), np.int64(18415727), np.int64(16433025), np.int64(11638660), np.int64(16490071), np.int64(15932375), np.int64(13500874), np.int64(10116166), np.int64(17201090), np.int64(15442954), np.int64(19489495), np.int64(11967131), np.int64(11530753), np.int64(15846225), np.int64(14161246), np.int64(16444004), np.int64(19088597), np.int64(10738677), np.int64(11212363), np.int64(14861282), np.int64(12727617), np.int64(19452126), np.int64(16496528), np.int64(17360055), np.int64(10539812), np.int64(16729864), np.int64(11099310), np.int64(15327789), np.int64(10330049), np.int64(19424684), np.int64(10378282), np.int64(10715477), np.int64(13165314), np.int64(16262495), np.int64(15386262), np.int64(14886832), np.int64(16459944), np.int64(15434659), np.int64(12141193), np.int64(10280803), np.int64(12820960), np.int64(17642170), np.int64(13302354), np.int64(11610947), np.int64(12214965), np.int64(13620661), np.int64(17214016), np.int64(18583079), np.int64(16059791), np.int64(12813986), np.int64(11427229), np.int64(10522265), np.int64(14147380), np.int64(15286742), np.int64(12396158), np.int64(15987955), np.int64(10174592), np.int64(15925462), np.int64(13429359), np.int64(17100972), np.int64(12630493), np.int64(12287487), np.int64(10433079), np.int64(18622374), np.int64(16909225), np.int64(13866602), np.int64(14318921), np.int64(13387485), np.int64(14733259), np.int64(11704848), np.int64(17697825), np.int64(18871802), np.int64(18271444), np.int64(10955253), np.int64(18277393), np.int64(11266941), np.int64(17012776), np.int64(14059830), np.int64(10136187), np.int64(12033200), np.int64(11927869), np.int64(10594807), np.int64(12847495), np.int64(10843878), np.int64(11738518), np.int64(12444275), np.int64(19536283), np.int64(12616255), np.int64(19519356), np.int64(13312421), np.int64(13747128), np.int64(13174181), np.int64(19979738), np.int64(16459532), np.int64(11135350), np.int64(12012417), np.int64(17093393), np.int64(13725781), np.int64(19472734), np.int64(18536624), np.int64(15294564), np.int64(18958630), np.int64(19865164), np.int64(12132455), np.int64(15201119), np.int64(14975146), np.int64(18246673), np.int64(13236615), np.int64(13824936), np.int64(14308660), np.int64(12000894), np.int64(18415643), np.int64(14520335), np.int64(11379746), np.int64(16324879), np.int64(12996965), np.int64(17542702), np.int64(12449468), np.int64(12361482), np.int64(12753045), np.int64(12967247), np.int64(15952108), np.int64(18947574), np.int64(11066522), np.int64(11355379), np.int64(12651874), np.int64(16793843), np.int64(10578946), np.int64(19420476), np.int64(10050790), np.int64(15743237), np.int64(18358319), np.int64(15290263), np.int64(11254598), np.int64(18328083), np.int64(10259739), np.int64(15605860), np.int64(18350751), np.int64(14693680), np.int64(19762992), np.int64(18137951), np.int64(13881165), np.int64(12658064), np.int64(18380327), np.int64(12509711), np.int64(12371823), np.int64(10342177), np.int64(15688849), np.int64(10598628), np.int64(11543836), np.int64(15762943), np.int64(14349434), np.int64(14057989), np.int64(11040153), np.int64(14345849), np.int64(16883374), np.int64(12483723), np.int64(10534438), np.int64(10793735), np.int64(15464764), np.int64(19344801), np.int64(11208333), np.int64(11465959), np.int64(19389826), np.int64(15386880), np.int64(17046074), np.int64(14417042), np.int64(16969421), np.int64(10512506), np.int64(16972833), np.int64(13869863), np.int64(14572685), np.int64(15613043), np.int64(14573148), np.int64(16063753), np.int64(18170296), np.int64(12350123), np.int64(17784114), np.int64(14414707), np.int64(19547184), np.int64(15446534), np.int64(17479625), np.int64(19837239), np.int64(15384973), np.int64(14190554), np.int64(14471276), np.int64(14998572), np.int64(14697602), np.int64(11528941), np.int64(16416544), np.int64(19742200), np.int64(11778436), np.int64(17131436), np.int64(15629821), np.int64(13627384), np.int64(11604850), np.int64(13811748), np.int64(14312973), np.int64(16255401), np.int64(19422903), np.int64(12759077), np.int64(19985469), np.int64(17964836), np.int64(14361092), np.int64(18256464), np.int64(10767172), np.int64(11865423), np.int64(12499502), np.int64(12817225), np.int64(14097166), np.int64(13397962), np.int64(14042268), np.int64(15046040), np.int64(19835232), np.int64(12643221), np.int64(15787637), np.int64(18962874), np.int64(18770942), np.int64(10429629), np.int64(14769018), np.int64(18401224), np.int64(10903124), np.int64(18230008), np.int64(15816544), np.int64(10828701), np.int64(18664284), np.int64(19517927), np.int64(19765588), np.int64(17493649), np.int64(13659261), np.int64(10611217), np.int64(12521767), np.int64(18008471), np.int64(15638790), np.int64(11394517), np.int64(12547983), np.int64(12529934), np.int64(19902536), np.int64(15574056), np.int64(17910879), np.int64(11451979), np.int64(11100917), np.int64(14182166), np.int64(10174198), np.int64(18222244), np.int64(12936752), np.int64(11016268), np.int64(15783273), np.int64(10326833), np.int64(16800099), np.int64(13144491), np.int64(11210944), np.int64(14100625), np.int64(16285559), np.int64(19257983), np.int64(10311659), np.int64(17477199), np.int64(10476603), np.int64(14129410), np.int64(13949444), np.int64(16813112), np.int64(15716850), np.int64(15617379), np.int64(16124721), np.int64(12560005), np.int64(11475402), np.int64(12222328), np.int64(19041879), np.int64(13733102), np.int64(18371528), np.int64(16959617), np.int64(10315733), np.int64(16468274), np.int64(10805247), np.int64(11728917), np.int64(10818133), np.int64(16933132), np.int64(15963078), np.int64(11017221), np.int64(10335822), np.int64(15946401), np.int64(16527757), np.int64(10129015), np.int64(16945005), np.int64(16719230), np.int64(10097491), np.int64(19580975), np.int64(19322666), np.int64(19059527), np.int64(19755137), np.int64(12993430), np.int64(14185546), np.int64(12159562), np.int64(19444218), np.int64(11992504), np.int64(10842709), np.int64(15860692), np.int64(14357506), np.int64(16074700), np.int64(11198679), np.int64(13952511), np.int64(19956182), np.int64(11912473), np.int64(13256974), np.int64(15935311), np.int64(18490450), np.int64(14692345), np.int64(12172254), np.int64(15321234), np.int64(19776632), np.int64(16273489), np.int64(17385766), np.int64(11412387), np.int64(12487989), np.int64(10401318), np.int64(19743313), np.int64(17941912), np.int64(19987030), np.int64(18586186), np.int64(15712521), np.int64(13057060), np.int64(12795623), np.int64(12153085), np.int64(14416441), np.int64(11167924), np.int64(16085653), np.int64(14389463), np.int64(18846991), np.int64(19368328), np.int64(16344057), np.int64(13859753), np.int64(14157488), np.int64(10481689), np.int64(13459991), np.int64(11495769), np.int64(14208232), np.int64(18085955), np.int64(15462369), np.int64(13636985), np.int64(13666330), np.int64(15909860), np.int64(12640052), np.int64(16843870), np.int64(16399426), np.int64(19599163), np.int64(14478108), np.int64(11977439), np.int64(19041173), np.int64(16651923), np.int64(17848364), np.int64(14121990), np.int64(10715666), np.int64(10508100), np.int64(19500912), np.int64(14726125), np.int64(18808007), np.int64(17483062), np.int64(14028996), np.int64(13882160), np.int64(12052192), np.int64(12472677), np.int64(12393800), np.int64(12031842), np.int64(19613616), np.int64(13520071), np.int64(18278187), np.int64(17147966), np.int64(18118373), np.int64(13935961), np.int64(15310905), np.int64(17516073), np.int64(19534200), np.int64(17763335), np.int64(10402299), np.int64(14663105), np.int64(15932963), np.int64(13308047), np.int64(19037636), np.int64(11271531), np.int64(18001649), np.int64(19746167), np.int64(14521707), np.int64(14460836), np.int64(11376978), np.int64(10695084), np.int64(19434164), np.int64(10561380), np.int64(18270562), np.int64(18028180), np.int64(14789720), np.int64(10643530), np.int64(17331457), np.int64(15185051), np.int64(11237430), np.int64(16822208), np.int64(12471372), np.int64(17840257), np.int64(15578212), np.int64(16809392), np.int64(13719437), np.int64(19550486), np.int64(13126379), np.int64(11134957), np.int64(12108497), np.int64(12645310), np.int64(14908040), np.int64(16721186), np.int64(11862131), np.int64(12583218), np.int64(16675957), np.int64(18198172), np.int64(17597660), np.int64(17420771), np.int64(14041814), np.int64(15358025), np.int64(18728763), np.int64(16415605), np.int64(15705793), np.int64(14791580), np.int64(15787595), np.int64(13519279), np.int64(15175193), np.int64(19606815), np.int64(16865670), np.int64(11863164), np.int64(10224999), np.int64(15195239), np.int64(11509035), np.int64(14485086), np.int64(16956808), np.int64(17776423), np.int64(14519338), np.int64(19020083), np.int64(15498277), np.int64(16387844), np.int64(13209577), np.int64(17224716), np.int64(12992465), np.int64(17619853), np.int64(14286858), np.int64(16276285), np.int64(19228423), np.int64(12249865), np.int64(15137874), np.int64(14748591), np.int64(18659772), np.int64(15955387), np.int64(11283470), np.int64(18919791), np.int64(16605047), np.int64(19867995), np.int64(10328843), np.int64(10727301), np.int64(16981603), np.int64(15615259), np.int64(16352133), np.int64(15657021), np.int64(14419388), np.int64(18769460), np.int64(17322057), np.int64(14639442), np.int64(19409493), np.int64(17238191), np.int64(17732105), np.int64(17112351), np.int64(19860141), np.int64(17002153), np.int64(14246614), np.int64(13269006), np.int64(13486720), np.int64(19436429), np.int64(16386802), np.int64(16108064), np.int64(16759428), np.int64(10259270), np.int64(12405200), np.int64(18392778), np.int64(19753019), np.int64(17870013), np.int64(15741932), np.int64(19496373), np.int64(12232668), np.int64(11139755), np.int64(16891101), np.int64(16445279), np.int64(17896889), np.int64(17052771), np.int64(16139536), np.int64(16924884), np.int64(14260070), np.int64(18930748), np.int64(16144726), np.int64(13998653), np.int64(15070972), np.int64(10577215), np.int64(17661489), np.int64(13736637), np.int64(19809627), np.int64(10750776), np.int64(15448953), np.int64(10839205), np.int64(13833086), np.int64(13422616), np.int64(19128645), np.int64(15646342), np.int64(10675446), np.int64(14515352), np.int64(19591762), np.int64(17549883), np.int64(12422400), np.int64(13906874), np.int64(18753516), np.int64(10489720), np.int64(18700598), np.int64(13096682), np.int64(18471802), np.int64(17531113), np.int64(15904912), np.int64(16338268), np.int64(12913282), np.int64(10271316)]\n",
            "Count: 679\n"
          ]
        }
      ],
      "source": [
        "all_null_race_subjects = []\n",
        "all_null_gender_subjects = []\n",
        "all_null_both_subjects = []\n",
        "\n",
        "unique_subject_ids = df['subject_id'].unique()\n",
        "\n",
        "for subject_id in unique_subject_ids:\n",
        "    subject_data = df[df['subject_id'] == subject_id]\n",
        "    if subject_data['race'].isnull().all():\n",
        "        all_null_race_subjects.append(subject_id)\n",
        "    if subject_data['gender'].isnull().all():\n",
        "        all_null_gender_subjects.append(subject_id)\n",
        "    if subject_data['race'].isnull().all() and subject_data['gender'].isnull().all():\n",
        "        all_null_both_subjects.append(subject_id)\n",
        "\n",
        "count_null_race = len(all_null_race_subjects)\n",
        "count_null_gender = len(all_null_gender_subjects)\n",
        "count_null_both = len(all_null_both_subjects)\n",
        "\n",
        "print(\"Subject IDs with all instances having null values in race:\")\n",
        "print(all_null_race_subjects)\n",
        "print(f\"Count: {count_null_race}\")\n",
        "\n",
        "print(\"\\nSubject IDs with all instances having null values in gender:\")\n",
        "print(all_null_gender_subjects)\n",
        "print(f\"Count: {count_null_gender}\")\n",
        "\n",
        "print(\"\\nSubject IDs with all instances having null values in both race and gender:\")\n",
        "print(all_null_both_subjects)\n",
        "print(f\"Count: {count_null_both}\")"
      ]
    },
    {
      "cell_type": "code",
      "execution_count": 111,
      "metadata": {
        "id": "fWCbZ5iuScKJ"
      },
      "outputs": [],
      "source": [
        "df['age'] = df['age'].replace(-1, np.nan)"
      ]
    },
    {
      "cell_type": "code",
      "execution_count": 112,
      "metadata": {
        "id": "hS6KgsRTx6xB"
      },
      "outputs": [],
      "source": [
        "pred_columns = [col for col in df.columns if 'pred' in col]\n",
        "for col in pred_columns:\n",
        "    df[f'{col}_label'] = df[col].apply(lambda x: 1 if x > 0.5 else 0)\n"
      ]
    },
    {
      "cell_type": "code",
      "execution_count": 113,
      "metadata": {
        "colab": {
          "base_uri": "https://localhost:8080/"
        },
        "id": "mzvk1ZtLPq6J",
        "outputId": "e3cba57a-69c1-4c57-b827-e795ec5ed955"
      },
      "outputs": [
        {
          "data": {
            "text/html": [
              "<div>\n",
              "<style scoped>\n",
              "    .dataframe tbody tr th:only-of-type {\n",
              "        vertical-align: middle;\n",
              "    }\n",
              "\n",
              "    .dataframe tbody tr th {\n",
              "        vertical-align: top;\n",
              "    }\n",
              "\n",
              "    .dataframe thead th {\n",
              "        text-align: right;\n",
              "    }\n",
              "</style>\n",
              "<table border=\"1\" class=\"dataframe\">\n",
              "  <thead>\n",
              "    <tr style=\"text-align: right;\">\n",
              "      <th></th>\n",
              "      <th>subject_id</th>\n",
              "      <th>age</th>\n",
              "      <th>pred_0</th>\n",
              "      <th>label_0</th>\n",
              "      <th>pred_1</th>\n",
              "      <th>label_1</th>\n",
              "      <th>pred_2</th>\n",
              "      <th>label_2</th>\n",
              "      <th>pred_3</th>\n",
              "      <th>label_3</th>\n",
              "      <th>pred_4</th>\n",
              "      <th>label_4</th>\n",
              "      <th>pred_5</th>\n",
              "      <th>label_5</th>\n",
              "      <th>pred_0_label</th>\n",
              "      <th>pred_1_label</th>\n",
              "      <th>pred_2_label</th>\n",
              "      <th>pred_3_label</th>\n",
              "      <th>pred_4_label</th>\n",
              "      <th>pred_5_label</th>\n",
              "    </tr>\n",
              "  </thead>\n",
              "  <tbody>\n",
              "    <tr>\n",
              "      <th>count</th>\n",
              "      <td>5.838600e+04</td>\n",
              "      <td>58386.000000</td>\n",
              "      <td>58386.000000</td>\n",
              "      <td>58386.000000</td>\n",
              "      <td>58386.000000</td>\n",
              "      <td>58386.000000</td>\n",
              "      <td>58386.000000</td>\n",
              "      <td>58386.000000</td>\n",
              "      <td>58386.000000</td>\n",
              "      <td>58386.000000</td>\n",
              "      <td>58386.000000</td>\n",
              "      <td>58386.000000</td>\n",
              "      <td>58386.000000</td>\n",
              "      <td>58386.000000</td>\n",
              "      <td>58386.000000</td>\n",
              "      <td>58386.000000</td>\n",
              "      <td>58386.000000</td>\n",
              "      <td>58386.0</td>\n",
              "      <td>58386.000000</td>\n",
              "      <td>58386.000000</td>\n",
              "    </tr>\n",
              "    <tr>\n",
              "      <th>mean</th>\n",
              "      <td>1.504712e+07</td>\n",
              "      <td>69.011184</td>\n",
              "      <td>0.228647</td>\n",
              "      <td>0.126452</td>\n",
              "      <td>0.143814</td>\n",
              "      <td>0.150858</td>\n",
              "      <td>0.023295</td>\n",
              "      <td>0.079968</td>\n",
              "      <td>0.007710</td>\n",
              "      <td>0.020279</td>\n",
              "      <td>0.221118</td>\n",
              "      <td>0.233361</td>\n",
              "      <td>0.488173</td>\n",
              "      <td>0.444764</td>\n",
              "      <td>0.101634</td>\n",
              "      <td>0.089028</td>\n",
              "      <td>0.000839</td>\n",
              "      <td>0.0</td>\n",
              "      <td>0.062172</td>\n",
              "      <td>0.487017</td>\n",
              "    </tr>\n",
              "    <tr>\n",
              "      <th>std</th>\n",
              "      <td>2.842240e+06</td>\n",
              "      <td>45.523478</td>\n",
              "      <td>0.182675</td>\n",
              "      <td>0.332360</td>\n",
              "      <td>0.208286</td>\n",
              "      <td>0.357914</td>\n",
              "      <td>0.051255</td>\n",
              "      <td>0.271246</td>\n",
              "      <td>0.007132</td>\n",
              "      <td>0.140954</td>\n",
              "      <td>0.154104</td>\n",
              "      <td>0.422973</td>\n",
              "      <td>0.290151</td>\n",
              "      <td>0.496944</td>\n",
              "      <td>0.302169</td>\n",
              "      <td>0.284787</td>\n",
              "      <td>0.028958</td>\n",
              "      <td>0.0</td>\n",
              "      <td>0.241471</td>\n",
              "      <td>0.499836</td>\n",
              "    </tr>\n",
              "    <tr>\n",
              "      <th>min</th>\n",
              "      <td>1.000112e+07</td>\n",
              "      <td>18.000000</td>\n",
              "      <td>0.000713</td>\n",
              "      <td>0.000000</td>\n",
              "      <td>0.000045</td>\n",
              "      <td>0.000000</td>\n",
              "      <td>0.000003</td>\n",
              "      <td>0.000000</td>\n",
              "      <td>0.000126</td>\n",
              "      <td>0.000000</td>\n",
              "      <td>0.003861</td>\n",
              "      <td>0.000000</td>\n",
              "      <td>0.002603</td>\n",
              "      <td>0.000000</td>\n",
              "      <td>0.000000</td>\n",
              "      <td>0.000000</td>\n",
              "      <td>0.000000</td>\n",
              "      <td>0.0</td>\n",
              "      <td>0.000000</td>\n",
              "      <td>0.000000</td>\n",
              "    </tr>\n",
              "    <tr>\n",
              "      <th>25%</th>\n",
              "      <td>1.260147e+07</td>\n",
              "      <td>49.000000</td>\n",
              "      <td>0.076932</td>\n",
              "      <td>0.000000</td>\n",
              "      <td>0.011122</td>\n",
              "      <td>0.000000</td>\n",
              "      <td>0.001015</td>\n",
              "      <td>0.000000</td>\n",
              "      <td>0.003414</td>\n",
              "      <td>0.000000</td>\n",
              "      <td>0.098114</td>\n",
              "      <td>0.000000</td>\n",
              "      <td>0.217903</td>\n",
              "      <td>0.000000</td>\n",
              "      <td>0.000000</td>\n",
              "      <td>0.000000</td>\n",
              "      <td>0.000000</td>\n",
              "      <td>0.0</td>\n",
              "      <td>0.000000</td>\n",
              "      <td>0.000000</td>\n",
              "    </tr>\n",
              "    <tr>\n",
              "      <th>50%</th>\n",
              "      <td>1.510800e+07</td>\n",
              "      <td>62.000000</td>\n",
              "      <td>0.180953</td>\n",
              "      <td>0.000000</td>\n",
              "      <td>0.044808</td>\n",
              "      <td>0.000000</td>\n",
              "      <td>0.004347</td>\n",
              "      <td>0.000000</td>\n",
              "      <td>0.005793</td>\n",
              "      <td>0.000000</td>\n",
              "      <td>0.184704</td>\n",
              "      <td>0.000000</td>\n",
              "      <td>0.485509</td>\n",
              "      <td>0.000000</td>\n",
              "      <td>0.000000</td>\n",
              "      <td>0.000000</td>\n",
              "      <td>0.000000</td>\n",
              "      <td>0.0</td>\n",
              "      <td>0.000000</td>\n",
              "      <td>0.000000</td>\n",
              "    </tr>\n",
              "    <tr>\n",
              "      <th>75%</th>\n",
              "      <td>1.746113e+07</td>\n",
              "      <td>75.000000</td>\n",
              "      <td>0.343238</td>\n",
              "      <td>0.000000</td>\n",
              "      <td>0.185651</td>\n",
              "      <td>0.000000</td>\n",
              "      <td>0.019601</td>\n",
              "      <td>0.000000</td>\n",
              "      <td>0.009670</td>\n",
              "      <td>0.000000</td>\n",
              "      <td>0.310742</td>\n",
              "      <td>0.000000</td>\n",
              "      <td>0.755457</td>\n",
              "      <td>1.000000</td>\n",
              "      <td>0.000000</td>\n",
              "      <td>0.000000</td>\n",
              "      <td>0.000000</td>\n",
              "      <td>0.0</td>\n",
              "      <td>0.000000</td>\n",
              "      <td>1.000000</td>\n",
              "    </tr>\n",
              "    <tr>\n",
              "      <th>max</th>\n",
              "      <td>1.999844e+07</td>\n",
              "      <td>255.000000</td>\n",
              "      <td>0.936132</td>\n",
              "      <td>1.000000</td>\n",
              "      <td>0.996474</td>\n",
              "      <td>1.000000</td>\n",
              "      <td>0.747137</td>\n",
              "      <td>1.000000</td>\n",
              "      <td>0.193383</td>\n",
              "      <td>1.000000</td>\n",
              "      <td>0.934002</td>\n",
              "      <td>1.000000</td>\n",
              "      <td>0.991699</td>\n",
              "      <td>1.000000</td>\n",
              "      <td>1.000000</td>\n",
              "      <td>1.000000</td>\n",
              "      <td>1.000000</td>\n",
              "      <td>0.0</td>\n",
              "      <td>1.000000</td>\n",
              "      <td>1.000000</td>\n",
              "    </tr>\n",
              "  </tbody>\n",
              "</table>\n",
              "</div>"
            ],
            "text/plain": [
              "         subject_id           age        pred_0       label_0        pred_1  \\\n",
              "count  5.838600e+04  58386.000000  58386.000000  58386.000000  58386.000000   \n",
              "mean   1.504712e+07     69.011184      0.228647      0.126452      0.143814   \n",
              "std    2.842240e+06     45.523478      0.182675      0.332360      0.208286   \n",
              "min    1.000112e+07     18.000000      0.000713      0.000000      0.000045   \n",
              "25%    1.260147e+07     49.000000      0.076932      0.000000      0.011122   \n",
              "50%    1.510800e+07     62.000000      0.180953      0.000000      0.044808   \n",
              "75%    1.746113e+07     75.000000      0.343238      0.000000      0.185651   \n",
              "max    1.999844e+07    255.000000      0.936132      1.000000      0.996474   \n",
              "\n",
              "            label_1        pred_2       label_2        pred_3       label_3  \\\n",
              "count  58386.000000  58386.000000  58386.000000  58386.000000  58386.000000   \n",
              "mean       0.150858      0.023295      0.079968      0.007710      0.020279   \n",
              "std        0.357914      0.051255      0.271246      0.007132      0.140954   \n",
              "min        0.000000      0.000003      0.000000      0.000126      0.000000   \n",
              "25%        0.000000      0.001015      0.000000      0.003414      0.000000   \n",
              "50%        0.000000      0.004347      0.000000      0.005793      0.000000   \n",
              "75%        0.000000      0.019601      0.000000      0.009670      0.000000   \n",
              "max        1.000000      0.747137      1.000000      0.193383      1.000000   \n",
              "\n",
              "             pred_4       label_4        pred_5       label_5  pred_0_label  \\\n",
              "count  58386.000000  58386.000000  58386.000000  58386.000000  58386.000000   \n",
              "mean       0.221118      0.233361      0.488173      0.444764      0.101634   \n",
              "std        0.154104      0.422973      0.290151      0.496944      0.302169   \n",
              "min        0.003861      0.000000      0.002603      0.000000      0.000000   \n",
              "25%        0.098114      0.000000      0.217903      0.000000      0.000000   \n",
              "50%        0.184704      0.000000      0.485509      0.000000      0.000000   \n",
              "75%        0.310742      0.000000      0.755457      1.000000      0.000000   \n",
              "max        0.934002      1.000000      0.991699      1.000000      1.000000   \n",
              "\n",
              "       pred_1_label  pred_2_label  pred_3_label  pred_4_label  pred_5_label  \n",
              "count  58386.000000  58386.000000       58386.0  58386.000000  58386.000000  \n",
              "mean       0.089028      0.000839           0.0      0.062172      0.487017  \n",
              "std        0.284787      0.028958           0.0      0.241471      0.499836  \n",
              "min        0.000000      0.000000           0.0      0.000000      0.000000  \n",
              "25%        0.000000      0.000000           0.0      0.000000      0.000000  \n",
              "50%        0.000000      0.000000           0.0      0.000000      0.000000  \n",
              "75%        0.000000      0.000000           0.0      0.000000      1.000000  \n",
              "max        1.000000      1.000000           0.0      1.000000      1.000000  "
            ]
          },
          "execution_count": 113,
          "metadata": {},
          "output_type": "execute_result"
        }
      ],
      "source": [
        "df.describe()"
      ]
    },
    {
      "cell_type": "markdown",
      "metadata": {},
      "source": [
        "Analysis of Statistics:\n",
        "    \n",
        "### Age:\n",
        "      Mean Age: 59.51 years\n",
        "      Standard Deviation: 17.89 years, indicating a relatively diverse age distribution.\n",
        "      Age Range: The youngest subject is 18 years old, and the oldest is 91 years old.\n",
        "\n",
        "### Pred:\n",
        "      mean of preds are as follows -> pred_0 : 0.228647, pred_1 : 0.143814,\n",
        "                                      pred_2 : 0.023295, pred_3 : 0.007710,\n",
        "                                      pred_4 : 0.221118, pred_5 : 0.488173\n",
        "\n",
        "      -> from the data above, we can clearly say that the model is most confident in predicting label_5\n",
        "         and least confident in predicting label_3."
      ]
    },
    {
      "cell_type": "markdown",
      "metadata": {
        "id": "1_PXEStUaSgj"
      },
      "source": [
        "## **AGE**"
      ]
    },
    {
      "cell_type": "code",
      "execution_count": 114,
      "metadata": {
        "colab": {
          "base_uri": "https://localhost:8080/"
        },
        "id": "VaOYV45cTEnj",
        "outputId": "da75d66c-fed0-4ea9-fa07-96f0e5158ad4"
      },
      "outputs": [
        {
          "name": "stdout",
          "output_type": "stream",
          "text": [
            "0\n"
          ]
        }
      ],
      "source": [
        "null_count = df['age'].isnull().sum()\n",
        "print(null_count)"
      ]
    },
    {
      "cell_type": "markdown",
      "metadata": {},
      "source": [
        "2839 samples have -1 values in the data which are changed to null values."
      ]
    },
    {
      "cell_type": "code",
      "execution_count": 115,
      "metadata": {
        "colab": {
          "base_uri": "https://localhost:8080/",
          "height": 618
        },
        "id": "kdPGreKHah4l",
        "outputId": "04806266-1fca-4645-e015-bcc9bb3f00fd"
      },
      "outputs": [
        {
          "name": "stderr",
          "output_type": "stream",
          "text": [
            "/var/folders/cp/w6zb81516yz3b7dw7m2sgt_80000gn/T/ipykernel_6239/2877934414.py:9: FutureWarning: \n",
            "\n",
            "Passing `palette` without assigning `hue` is deprecated and will be removed in v0.14.0. Assign the `x` variable to `hue` and set `legend=False` for the same effect.\n",
            "\n",
            "  sns.barplot(x=age_distribution.index, y=age_distribution.values, palette='viridis')\n"
          ]
        },
        {
          "data": {
            "image/png": "[encoded data removed]",
            "text/plain": [
              "<Figure size 800x500 with 1 Axes>"
            ]
          },
          "metadata": {},
          "output_type": "display_data"
        }
      ],
      "source": [
        "bins = [18, 41, 66, 95]\n",
        "labels = ['18-41', '42-66', '67-95']\n",
        "\n",
        "df['age_group'] = pd.cut(df['age'], bins=bins, labels=labels, right=True)\n",
        "\n",
        "age_distribution = df['age_group'].value_counts().sort_index()\n",
        "\n",
        "plt.figure(figsize=(8, 5))\n",
        "sns.barplot(x=age_distribution.index, y=age_distribution.values, palette='viridis')\n",
        "\n",
        "plt.xlabel('Age Groups')\n",
        "plt.ylabel('Count')\n",
        "plt.title('Distribution of Age Groups')\n",
        "plt.xticks(rotation=45)\n",
        "plt.show()"
      ]
    },
    {
      "cell_type": "code",
      "execution_count": 116,
      "metadata": {
        "colab": {
          "base_uri": "https://localhost:8080/",
          "height": 756
        },
        "id": "NxoBS7ppc1Fc",
        "outputId": "16800da4-6a6f-450c-8793-05f847db1fcb"
      },
      "outputs": [
        {
          "name": "stderr",
          "output_type": "stream",
          "text": [
            "/var/folders/cp/w6zb81516yz3b7dw7m2sgt_80000gn/T/ipykernel_6239/2315068532.py:9: FutureWarning: The default of observed=False is deprecated and will be changed to True in a future version of pandas. Pass observed=False to retain current behavior or observed=True to adopt the future default and silence this warning.\n",
            "  col: df[df['age_group'].notna() & (df[col] != 0)].groupby('age_group').size()\n",
            "/var/folders/cp/w6zb81516yz3b7dw7m2sgt_80000gn/T/ipykernel_6239/2315068532.py:9: FutureWarning: The default of observed=False is deprecated and will be changed to True in a future version of pandas. Pass observed=False to retain current behavior or observed=True to adopt the future default and silence this warning.\n",
            "  col: df[df['age_group'].notna() & (df[col] != 0)].groupby('age_group').size()\n",
            "/var/folders/cp/w6zb81516yz3b7dw7m2sgt_80000gn/T/ipykernel_6239/2315068532.py:9: FutureWarning: The default of observed=False is deprecated and will be changed to True in a future version of pandas. Pass observed=False to retain current behavior or observed=True to adopt the future default and silence this warning.\n",
            "  col: df[df['age_group'].notna() & (df[col] != 0)].groupby('age_group').size()\n",
            "/var/folders/cp/w6zb81516yz3b7dw7m2sgt_80000gn/T/ipykernel_6239/2315068532.py:9: FutureWarning: The default of observed=False is deprecated and will be changed to True in a future version of pandas. Pass observed=False to retain current behavior or observed=True to adopt the future default and silence this warning.\n",
            "  col: df[df['age_group'].notna() & (df[col] != 0)].groupby('age_group').size()\n",
            "/var/folders/cp/w6zb81516yz3b7dw7m2sgt_80000gn/T/ipykernel_6239/2315068532.py:9: FutureWarning: The default of observed=False is deprecated and will be changed to True in a future version of pandas. Pass observed=False to retain current behavior or observed=True to adopt the future default and silence this warning.\n",
            "  col: df[df['age_group'].notna() & (df[col] != 0)].groupby('age_group').size()\n",
            "/var/folders/cp/w6zb81516yz3b7dw7m2sgt_80000gn/T/ipykernel_6239/2315068532.py:9: FutureWarning: The default of observed=False is deprecated and will be changed to True in a future version of pandas. Pass observed=False to retain current behavior or observed=True to adopt the future default and silence this warning.\n",
            "  col: df[df['age_group'].notna() & (df[col] != 0)].groupby('age_group').size()\n"
          ]
        },
        {
          "data": {
            "image/png": "[encoded data removed]",
            "text/plain": [
              "<Figure size 1000x600 with 1 Axes>"
            ]
          },
          "metadata": {},
          "output_type": "display_data"
        }
      ],
      "source": [
        "bins = [18, 41, 66, 95]\n",
        "labels = ['18-41', '42-66', '67-95']\n",
        "\n",
        "df['age_group'] = pd.cut(df['age'], bins=bins, labels=labels, right=True)\n",
        "\n",
        "label_columns = [col for col in df.columns if '_label' in col]\n",
        "\n",
        "non_zero_counts_age = {\n",
        "    col: df[df['age_group'].notna() & (df[col] != 0)].groupby('age_group').size()\n",
        "    for col in label_columns\n",
        "}\n",
        "\n",
        "non_zero_df_age = pd.DataFrame(non_zero_counts_age).fillna(0)\n",
        "\n",
        "non_zero_df_age.plot(kind='bar', figsize=(10, 6), colormap='viridis')\n",
        "\n",
        "plt.xlabel('Age Groups')\n",
        "plt.ylabel('Count of patients')\n",
        "plt.title('Count of patients by Age Group for Each Predicted Label Column')\n",
        "plt.xticks(rotation=0)\n",
        "plt.legend(title='Predicted Label Columns')\n",
        "plt.tight_layout()\n",
        "plt.show()"
      ]
    },
    {
      "cell_type": "code",
      "execution_count": 117,
      "metadata": {
        "colab": {
          "base_uri": "https://localhost:8080/"
        },
        "id": "dFhHFaq0jcjU",
        "outputId": "c531118b-ace5-4b4c-ba2d-557a32fc14fb"
      },
      "outputs": [
        {
          "name": "stdout",
          "output_type": "stream",
          "text": [
            "\n",
            "Patients Counts by Age Group for Each Label Column:\n"
          ]
        },
        {
          "data": {
            "text/html": [
              "<div>\n",
              "<style scoped>\n",
              "    .dataframe tbody tr th:only-of-type {\n",
              "        vertical-align: middle;\n",
              "    }\n",
              "\n",
              "    .dataframe tbody tr th {\n",
              "        vertical-align: top;\n",
              "    }\n",
              "\n",
              "    .dataframe thead th {\n",
              "        text-align: right;\n",
              "    }\n",
              "</style>\n",
              "<table border=\"1\" class=\"dataframe\">\n",
              "  <thead>\n",
              "    <tr style=\"text-align: right;\">\n",
              "      <th>age_group</th>\n",
              "      <th>18-41</th>\n",
              "      <th>42-66</th>\n",
              "      <th>67-95</th>\n",
              "    </tr>\n",
              "  </thead>\n",
              "  <tbody>\n",
              "    <tr>\n",
              "      <th>pred_0_label</th>\n",
              "      <td>306</td>\n",
              "      <td>2049</td>\n",
              "      <td>3255</td>\n",
              "    </tr>\n",
              "    <tr>\n",
              "      <th>pred_1_label</th>\n",
              "      <td>210</td>\n",
              "      <td>1709</td>\n",
              "      <td>3032</td>\n",
              "    </tr>\n",
              "    <tr>\n",
              "      <th>pred_2_label</th>\n",
              "      <td>0</td>\n",
              "      <td>14</td>\n",
              "      <td>34</td>\n",
              "    </tr>\n",
              "    <tr>\n",
              "      <th>pred_3_label</th>\n",
              "      <td>0</td>\n",
              "      <td>0</td>\n",
              "      <td>0</td>\n",
              "    </tr>\n",
              "    <tr>\n",
              "      <th>pred_4_label</th>\n",
              "      <td>191</td>\n",
              "      <td>1186</td>\n",
              "      <td>2046</td>\n",
              "    </tr>\n",
              "    <tr>\n",
              "      <th>pred_5_label</th>\n",
              "      <td>7435</td>\n",
              "      <td>13769</td>\n",
              "      <td>5608</td>\n",
              "    </tr>\n",
              "  </tbody>\n",
              "</table>\n",
              "</div>"
            ],
            "text/plain": [
              "age_group     18-41  42-66  67-95\n",
              "pred_0_label    306   2049   3255\n",
              "pred_1_label    210   1709   3032\n",
              "pred_2_label      0     14     34\n",
              "pred_3_label      0      0      0\n",
              "pred_4_label    191   1186   2046\n",
              "pred_5_label   7435  13769   5608"
            ]
          },
          "execution_count": 117,
          "metadata": {},
          "output_type": "execute_result"
        }
      ],
      "source": [
        "non_zero_counts_age_df = pd.DataFrame(non_zero_counts_age).T.fillna(0)\n",
        "\n",
        "print(\"\\nPatients Counts by Age Group for Each Label Column:\")\n",
        "non_zero_counts_age_df"
      ]
    },
    {
      "cell_type": "code",
      "execution_count": 118,
      "metadata": {},
      "outputs": [
        {
          "name": "stdout",
          "output_type": "stream",
          "text": [
            "\n",
            "Statistics for Non-Zero Counts by Age Group:\n"
          ]
        },
        {
          "data": {
            "text/html": [
              "<div>\n",
              "<style scoped>\n",
              "    .dataframe tbody tr th:only-of-type {\n",
              "        vertical-align: middle;\n",
              "    }\n",
              "\n",
              "    .dataframe tbody tr th {\n",
              "        vertical-align: top;\n",
              "    }\n",
              "\n",
              "    .dataframe thead th {\n",
              "        text-align: right;\n",
              "    }\n",
              "</style>\n",
              "<table border=\"1\" class=\"dataframe\">\n",
              "  <thead>\n",
              "    <tr style=\"text-align: right;\">\n",
              "      <th></th>\n",
              "      <th>count</th>\n",
              "      <th>mean</th>\n",
              "      <th>std</th>\n",
              "      <th>min</th>\n",
              "      <th>25%</th>\n",
              "      <th>50%</th>\n",
              "      <th>75%</th>\n",
              "      <th>max</th>\n",
              "    </tr>\n",
              "    <tr>\n",
              "      <th>age_group</th>\n",
              "      <th></th>\n",
              "      <th></th>\n",
              "      <th></th>\n",
              "      <th></th>\n",
              "      <th></th>\n",
              "      <th></th>\n",
              "      <th></th>\n",
              "      <th></th>\n",
              "    </tr>\n",
              "  </thead>\n",
              "  <tbody>\n",
              "    <tr>\n",
              "      <th>18-41</th>\n",
              "      <td>6.0</td>\n",
              "      <td>1357.000000</td>\n",
              "      <td>2980.092213</td>\n",
              "      <td>0.0</td>\n",
              "      <td>47.75</td>\n",
              "      <td>200.5</td>\n",
              "      <td>282.00</td>\n",
              "      <td>7435.0</td>\n",
              "    </tr>\n",
              "    <tr>\n",
              "      <th>42-66</th>\n",
              "      <td>6.0</td>\n",
              "      <td>3121.166667</td>\n",
              "      <td>5285.095020</td>\n",
              "      <td>0.0</td>\n",
              "      <td>307.00</td>\n",
              "      <td>1447.5</td>\n",
              "      <td>1964.00</td>\n",
              "      <td>13769.0</td>\n",
              "    </tr>\n",
              "    <tr>\n",
              "      <th>67-95</th>\n",
              "      <td>6.0</td>\n",
              "      <td>2329.166667</td>\n",
              "      <td>2138.919392</td>\n",
              "      <td>0.0</td>\n",
              "      <td>537.00</td>\n",
              "      <td>2539.0</td>\n",
              "      <td>3199.25</td>\n",
              "      <td>5608.0</td>\n",
              "    </tr>\n",
              "  </tbody>\n",
              "</table>\n",
              "</div>"
            ],
            "text/plain": [
              "           count         mean          std  min     25%     50%      75%  \\\n",
              "age_group                                                                  \n",
              "18-41        6.0  1357.000000  2980.092213  0.0   47.75   200.5   282.00   \n",
              "42-66        6.0  3121.166667  5285.095020  0.0  307.00  1447.5  1964.00   \n",
              "67-95        6.0  2329.166667  2138.919392  0.0  537.00  2539.0  3199.25   \n",
              "\n",
              "               max  \n",
              "age_group           \n",
              "18-41       7435.0  \n",
              "42-66      13769.0  \n",
              "67-95       5608.0  "
            ]
          },
          "execution_count": 118,
          "metadata": {},
          "output_type": "execute_result"
        }
      ],
      "source": [
        "age_stats = non_zero_counts_age_df.describe().T\n",
        "print(\"\\nStatistics for Non-Zero Counts by Age Group:\")\n",
        "age_stats"
      ]
    },
    {
      "cell_type": "code",
      "execution_count": 119,
      "metadata": {
        "colab": {
          "base_uri": "https://localhost:8080/",
          "height": 261
        },
        "id": "CkwGuLLts0QV",
        "outputId": "fec8dde5-287d-45c7-a0d5-703d5e1aee93"
      },
      "outputs": [
        {
          "name": "stdout",
          "output_type": "stream",
          "text": [
            "Correlation Matrix Between Age and All Prediction Columns:\n",
            "age       1.000000\n",
            "pred_0    0.140496\n",
            "pred_1    0.114993\n",
            "pred_2    0.087973\n",
            "pred_3    0.078313\n",
            "pred_4    0.135394\n",
            "pred_5   -0.178365\n",
            "Name: age, dtype: float64\n"
          ]
        }
      ],
      "source": [
        "age_pred_corr = df[['age'] + [col for col in df.columns if 'pred' in col and not col.endswith('label')]].corr()\n",
        "\n",
        "print(\"Correlation Matrix Between Age and All Prediction Columns:\")\n",
        "print(age_pred_corr['age'])"
      ]
    },
    {
      "cell_type": "markdown",
      "metadata": {},
      "source": [
        "### Interpretation:\n",
        "Correlation between age and all predicted labels:\n",
        "\n",
        "Positive Correlation (e.g., label_0 to label_4):\n",
        "The positive values indicate a positive correlation between the age and the respective label.\n",
        "This means as the age increases, the likelihood of the label being present tends to increase as well.\n",
        "\n",
        "\n",
        "Negative Correlation (label_5):\n",
        "The negative value (-0.496172) for label_5 suggests a negative correlation.\n",
        "As the age increases, the likelihood of this label being present tends to decrease."
      ]
    },
    {
      "cell_type": "markdown",
      "metadata": {
        "id": "T1VCqJqrfyrP"
      },
      "source": [
        "## **RACE**"
      ]
    },
    {
      "cell_type": "code",
      "execution_count": 120,
      "metadata": {
        "colab": {
          "base_uri": "https://localhost:8080/"
        },
        "id": "rOBr73yTjeYq",
        "outputId": "4fa1c0e4-5e97-4afb-ca7a-d1a451b4885d"
      },
      "outputs": [
        {
          "name": "stdout",
          "output_type": "stream",
          "text": [
            "['WHITE', NaN, 'BLACK/AFRICAN AMERICAN', 'OTHER', 'BLACK/CAPE VERDEAN', ..., 'HISPANIC/LATINO - HONDURAN', 'HISPANIC/LATINO - CENTRAL AMERICAN', 'WHITE - EASTERN EUROPEAN', 'ASIAN - KOREAN', 'UNABLE TO OBTAIN']\n",
            "Length: 34\n",
            "Categories (33, object): ['AMERICAN INDIAN/ALASKA NATIVE', 'ASIAN', 'ASIAN - ASIAN INDIAN', 'ASIAN - CHINESE', ..., 'WHITE - BRAZILIAN', 'WHITE - EASTERN EUROPEAN', 'WHITE - OTHER EUROPEAN', 'WHITE - RUSSIAN']\n"
          ]
        }
      ],
      "source": [
        "print(df['race'].unique())"
      ]
    },
    {
      "cell_type": "code",
      "execution_count": 121,
      "metadata": {},
      "outputs": [],
      "source": [
        "import json\n",
        "with open(\"race_mapping.json\", \"w\") as outfile:\n",
        "    json.dump(grouped_races, outfile, indent=4, sort_keys=False)"
      ]
    },
    {
      "cell_type": "code",
      "execution_count": 122,
      "metadata": {
        "colab": {
          "base_uri": "https://localhost:8080/",
          "height": 589
        },
        "id": "LrASlCKHbHr0",
        "outputId": "24864b10-29ae-448c-be8b-16ff6ec130b0"
      },
      "outputs": [
        {
          "data": {
            "image/png": "[encoded data removed]",
            "text/plain": [
              "<Figure size 1200x800 with 1 Axes>"
            ]
          },
          "metadata": {},
          "output_type": "display_data"
        }
      ],
      "source": [
        "\n",
        "label_columns = [col for col in df.columns if '_label' in col]\n",
        "\n",
        "# Read the race mapping from a JSON file\n",
        "with open(\"race_mapping.json\", \"r\") as outfile:\n",
        "    grouped_races = json.load(outfile)\n",
        "\n",
        "\n",
        "df['race_grouped'] = df['race'].map(grouped_races)\n",
        "\n",
        "grouped_non_zero_counts_race = {\n",
        "    race: {col: df[(df['race_grouped'] == race) & (df[col] != 0)].shape[0] for col in label_columns}\n",
        "    for race in df['race_grouped'].unique() if race is not np.nan\n",
        "}\n",
        "\n",
        "grouped_non_zero_df = pd.DataFrame(grouped_non_zero_counts_race).T.fillna(0)\n",
        "\n",
        "ax = grouped_non_zero_df.plot(kind='barh', figsize=(12, 8), colormap='viridis')\n",
        "\n",
        "plt.xlabel('Count of Patients')\n",
        "plt.ylabel('Race Categories')\n",
        "plt.title('Count of Patients by Grouped Race for Each Predicted Label Column')\n",
        "plt.legend(title='Predicted Label Columns', bbox_to_anchor=(1.05, 1), loc='upper left')\n",
        "plt.tight_layout()\n",
        "plt.show()"
      ]
    },
    {
      "cell_type": "code",
      "execution_count": 123,
      "metadata": {
        "colab": {
          "base_uri": "https://localhost:8080/"
        },
        "id": "ZOCVgLxSaupb",
        "outputId": "5699b04e-ea3c-4f13-ead4-dd9fc1985c2b"
      },
      "outputs": [
        {
          "name": "stdout",
          "output_type": "stream",
          "text": [
            "\n",
            "Patient Counts by Race for Each Label Column:\n"
          ]
        },
        {
          "data": {
            "text/html": [
              "<div>\n",
              "<style scoped>\n",
              "    .dataframe tbody tr th:only-of-type {\n",
              "        vertical-align: middle;\n",
              "    }\n",
              "\n",
              "    .dataframe tbody tr th {\n",
              "        vertical-align: top;\n",
              "    }\n",
              "\n",
              "    .dataframe thead th {\n",
              "        text-align: right;\n",
              "    }\n",
              "</style>\n",
              "<table border=\"1\" class=\"dataframe\">\n",
              "  <thead>\n",
              "    <tr style=\"text-align: right;\">\n",
              "      <th></th>\n",
              "      <th>pred_0_label</th>\n",
              "      <th>pred_1_label</th>\n",
              "      <th>pred_2_label</th>\n",
              "      <th>pred_3_label</th>\n",
              "      <th>pred_4_label</th>\n",
              "      <th>pred_5_label</th>\n",
              "    </tr>\n",
              "  </thead>\n",
              "  <tbody>\n",
              "    <tr>\n",
              "      <th>White</th>\n",
              "      <td>3516</td>\n",
              "      <td>3657</td>\n",
              "      <td>42</td>\n",
              "      <td>0</td>\n",
              "      <td>2451</td>\n",
              "      <td>13046</td>\n",
              "    </tr>\n",
              "    <tr>\n",
              "      <th>Black</th>\n",
              "      <td>1156</td>\n",
              "      <td>578</td>\n",
              "      <td>2</td>\n",
              "      <td>0</td>\n",
              "      <td>467</td>\n",
              "      <td>5219</td>\n",
              "    </tr>\n",
              "    <tr>\n",
              "      <th>Other</th>\n",
              "      <td>181</td>\n",
              "      <td>143</td>\n",
              "      <td>0</td>\n",
              "      <td>0</td>\n",
              "      <td>109</td>\n",
              "      <td>781</td>\n",
              "    </tr>\n",
              "    <tr>\n",
              "      <th>Unknown</th>\n",
              "      <td>155</td>\n",
              "      <td>173</td>\n",
              "      <td>2</td>\n",
              "      <td>0</td>\n",
              "      <td>89</td>\n",
              "      <td>221</td>\n",
              "    </tr>\n",
              "    <tr>\n",
              "      <th>Asian</th>\n",
              "      <td>101</td>\n",
              "      <td>97</td>\n",
              "      <td>0</td>\n",
              "      <td>0</td>\n",
              "      <td>77</td>\n",
              "      <td>499</td>\n",
              "    </tr>\n",
              "    <tr>\n",
              "      <th>Hispanic</th>\n",
              "      <td>348</td>\n",
              "      <td>176</td>\n",
              "      <td>1</td>\n",
              "      <td>0</td>\n",
              "      <td>135</td>\n",
              "      <td>2060</td>\n",
              "    </tr>\n",
              "    <tr>\n",
              "      <th>Multiple</th>\n",
              "      <td>18</td>\n",
              "      <td>32</td>\n",
              "      <td>0</td>\n",
              "      <td>0</td>\n",
              "      <td>8</td>\n",
              "      <td>17</td>\n",
              "    </tr>\n",
              "    <tr>\n",
              "      <th>Native American</th>\n",
              "      <td>6</td>\n",
              "      <td>18</td>\n",
              "      <td>0</td>\n",
              "      <td>0</td>\n",
              "      <td>13</td>\n",
              "      <td>69</td>\n",
              "    </tr>\n",
              "    <tr>\n",
              "      <th>Pacific Islander</th>\n",
              "      <td>3</td>\n",
              "      <td>1</td>\n",
              "      <td>0</td>\n",
              "      <td>0</td>\n",
              "      <td>2</td>\n",
              "      <td>20</td>\n",
              "    </tr>\n",
              "  </tbody>\n",
              "</table>\n",
              "</div>"
            ],
            "text/plain": [
              "                  pred_0_label  pred_1_label  pred_2_label  pred_3_label  \\\n",
              "White                     3516          3657            42             0   \n",
              "Black                     1156           578             2             0   \n",
              "Other                      181           143             0             0   \n",
              "Unknown                    155           173             2             0   \n",
              "Asian                      101            97             0             0   \n",
              "Hispanic                   348           176             1             0   \n",
              "Multiple                    18            32             0             0   \n",
              "Native American              6            18             0             0   \n",
              "Pacific Islander             3             1             0             0   \n",
              "\n",
              "                  pred_4_label  pred_5_label  \n",
              "White                     2451         13046  \n",
              "Black                      467          5219  \n",
              "Other                      109           781  \n",
              "Unknown                     89           221  \n",
              "Asian                       77           499  \n",
              "Hispanic                   135          2060  \n",
              "Multiple                     8            17  \n",
              "Native American             13            69  \n",
              "Pacific Islander             2            20  "
            ]
          },
          "execution_count": 123,
          "metadata": {},
          "output_type": "execute_result"
        }
      ],
      "source": [
        "non_zero_counts_race_df = pd.DataFrame(grouped_non_zero_counts_race).T.fillna(0)\n",
        "\n",
        "print(\"\\nPatient Counts by Race for Each Label Column:\")\n",
        "non_zero_counts_race_df"
      ]
    },
    {
      "cell_type": "code",
      "execution_count": 124,
      "metadata": {},
      "outputs": [
        {
          "name": "stdout",
          "output_type": "stream",
          "text": [
            "\n",
            "Statistics for Patient Counts by Race (with axes swapped):\n"
          ]
        },
        {
          "data": {
            "text/html": [
              "<div>\n",
              "<style scoped>\n",
              "    .dataframe tbody tr th:only-of-type {\n",
              "        vertical-align: middle;\n",
              "    }\n",
              "\n",
              "    .dataframe tbody tr th {\n",
              "        vertical-align: top;\n",
              "    }\n",
              "\n",
              "    .dataframe thead th {\n",
              "        text-align: right;\n",
              "    }\n",
              "</style>\n",
              "<table border=\"1\" class=\"dataframe\">\n",
              "  <thead>\n",
              "    <tr style=\"text-align: right;\">\n",
              "      <th></th>\n",
              "      <th>count</th>\n",
              "      <th>mean</th>\n",
              "      <th>std</th>\n",
              "      <th>min</th>\n",
              "      <th>25%</th>\n",
              "      <th>50%</th>\n",
              "      <th>75%</th>\n",
              "      <th>max</th>\n",
              "    </tr>\n",
              "  </thead>\n",
              "  <tbody>\n",
              "    <tr>\n",
              "      <th>White</th>\n",
              "      <td>6.0</td>\n",
              "      <td>3785.333333</td>\n",
              "      <td>4816.029388</td>\n",
              "      <td>0.0</td>\n",
              "      <td>644.25</td>\n",
              "      <td>2983.5</td>\n",
              "      <td>3621.75</td>\n",
              "      <td>13046.0</td>\n",
              "    </tr>\n",
              "    <tr>\n",
              "      <th>Black</th>\n",
              "      <td>6.0</td>\n",
              "      <td>1237.000000</td>\n",
              "      <td>1997.271138</td>\n",
              "      <td>0.0</td>\n",
              "      <td>118.25</td>\n",
              "      <td>522.5</td>\n",
              "      <td>1011.50</td>\n",
              "      <td>5219.0</td>\n",
              "    </tr>\n",
              "    <tr>\n",
              "      <th>Other</th>\n",
              "      <td>6.0</td>\n",
              "      <td>202.333333</td>\n",
              "      <td>293.059493</td>\n",
              "      <td>0.0</td>\n",
              "      <td>27.25</td>\n",
              "      <td>126.0</td>\n",
              "      <td>171.50</td>\n",
              "      <td>781.0</td>\n",
              "    </tr>\n",
              "    <tr>\n",
              "      <th>Unknown</th>\n",
              "      <td>6.0</td>\n",
              "      <td>106.666667</td>\n",
              "      <td>92.144814</td>\n",
              "      <td>0.0</td>\n",
              "      <td>23.75</td>\n",
              "      <td>122.0</td>\n",
              "      <td>168.50</td>\n",
              "      <td>221.0</td>\n",
              "    </tr>\n",
              "    <tr>\n",
              "      <th>Asian</th>\n",
              "      <td>6.0</td>\n",
              "      <td>129.000000</td>\n",
              "      <td>186.919234</td>\n",
              "      <td>0.0</td>\n",
              "      <td>19.25</td>\n",
              "      <td>87.0</td>\n",
              "      <td>100.00</td>\n",
              "      <td>499.0</td>\n",
              "    </tr>\n",
              "    <tr>\n",
              "      <th>Hispanic</th>\n",
              "      <td>6.0</td>\n",
              "      <td>453.333333</td>\n",
              "      <td>797.601321</td>\n",
              "      <td>0.0</td>\n",
              "      <td>34.50</td>\n",
              "      <td>155.5</td>\n",
              "      <td>305.00</td>\n",
              "      <td>2060.0</td>\n",
              "    </tr>\n",
              "    <tr>\n",
              "      <th>Multiple</th>\n",
              "      <td>6.0</td>\n",
              "      <td>12.500000</td>\n",
              "      <td>12.357184</td>\n",
              "      <td>0.0</td>\n",
              "      <td>2.00</td>\n",
              "      <td>12.5</td>\n",
              "      <td>17.75</td>\n",
              "      <td>32.0</td>\n",
              "    </tr>\n",
              "    <tr>\n",
              "      <th>Native American</th>\n",
              "      <td>6.0</td>\n",
              "      <td>17.666667</td>\n",
              "      <td>26.143195</td>\n",
              "      <td>0.0</td>\n",
              "      <td>1.50</td>\n",
              "      <td>9.5</td>\n",
              "      <td>16.75</td>\n",
              "      <td>69.0</td>\n",
              "    </tr>\n",
              "    <tr>\n",
              "      <th>Pacific Islander</th>\n",
              "      <td>6.0</td>\n",
              "      <td>4.333333</td>\n",
              "      <td>7.763161</td>\n",
              "      <td>0.0</td>\n",
              "      <td>0.25</td>\n",
              "      <td>1.5</td>\n",
              "      <td>2.75</td>\n",
              "      <td>20.0</td>\n",
              "    </tr>\n",
              "  </tbody>\n",
              "</table>\n",
              "</div>"
            ],
            "text/plain": [
              "                  count         mean          std  min     25%     50%  \\\n",
              "White               6.0  3785.333333  4816.029388  0.0  644.25  2983.5   \n",
              "Black               6.0  1237.000000  1997.271138  0.0  118.25   522.5   \n",
              "Other               6.0   202.333333   293.059493  0.0   27.25   126.0   \n",
              "Unknown             6.0   106.666667    92.144814  0.0   23.75   122.0   \n",
              "Asian               6.0   129.000000   186.919234  0.0   19.25    87.0   \n",
              "Hispanic            6.0   453.333333   797.601321  0.0   34.50   155.5   \n",
              "Multiple            6.0    12.500000    12.357184  0.0    2.00    12.5   \n",
              "Native American     6.0    17.666667    26.143195  0.0    1.50     9.5   \n",
              "Pacific Islander    6.0     4.333333     7.763161  0.0    0.25     1.5   \n",
              "\n",
              "                      75%      max  \n",
              "White             3621.75  13046.0  \n",
              "Black             1011.50   5219.0  \n",
              "Other              171.50    781.0  \n",
              "Unknown            168.50    221.0  \n",
              "Asian              100.00    499.0  \n",
              "Hispanic           305.00   2060.0  \n",
              "Multiple            17.75     32.0  \n",
              "Native American     16.75     69.0  \n",
              "Pacific Islander     2.75     20.0  "
            ]
          },
          "execution_count": 124,
          "metadata": {},
          "output_type": "execute_result"
        }
      ],
      "source": [
        "race_stats = non_zero_counts_race_df.T.describe().T\n",
        "\n",
        "print(\"\\nStatistics for Patient Counts by Race (with axes swapped):\")\n",
        "race_stats"
      ]
    },
    {
      "cell_type": "markdown",
      "metadata": {
        "id": "F5ib9n-WjhL3"
      },
      "source": [
        "## **Gender**"
      ]
    },
    {
      "cell_type": "code",
      "execution_count": 125,
      "metadata": {
        "colab": {
          "base_uri": "https://localhost:8080/"
        },
        "id": "AyrC0SlOjlMe",
        "outputId": "087fd438-ab8c-4ba7-9e97-7fbe276339ab"
      },
      "outputs": [
        {
          "name": "stdout",
          "output_type": "stream",
          "text": [
            "['F', 'UNKNOWN', 'M']\n",
            "Categories (3, object): ['F', 'M', 'UNKNOWN']\n"
          ]
        }
      ],
      "source": [
        "df['gender']  = df['gender'].fillna(\"UNKNOWN\")\n",
        "df['gender'] = df['gender'].astype('category')\n",
        "print(df['gender'].unique())"
      ]
    },
    {
      "cell_type": "code",
      "execution_count": 126,
      "metadata": {
        "colab": {
          "base_uri": "https://localhost:8080/",
          "height": 530
        },
        "id": "MLcGmSxMkXyI",
        "outputId": "6d2312fb-5dea-4992-c839-db7d7dff1ca0"
      },
      "outputs": [
        {
          "data": {
            "image/png": "[encoded data removed]",
            "text/plain": [
              "<Figure size 1000x600 with 1 Axes>"
            ]
          },
          "metadata": {},
          "output_type": "display_data"
        }
      ],
      "source": [
        "label_columns = [col for col in df.columns if '_label' in col]\n",
        "\n",
        "non_zero_counts_gender = {\n",
        "    gender: {col: df[(df['gender'] == gender) & (df[col] != 0)].shape[0] for col in label_columns}\n",
        "    for gender in df['gender'].unique()\n",
        "}\n",
        "\n",
        "non_zero_gender_df = pd.DataFrame(non_zero_counts_gender).T.fillna(0)\n",
        "\n",
        "ax = non_zero_gender_df.plot(kind='bar', figsize=(10, 6), colormap='coolwarm')\n",
        "\n",
        "plt.ylabel('Count of Patients')\n",
        "plt.xlabel('Gender')\n",
        "plt.title('Count of Patients by Gender for Each Predicted Label Column')\n",
        "plt.xticks(rotation=0)\n",
        "plt.legend(title='Predicted Label Columns', bbox_to_anchor=(1.05, 1), loc='upper left')\n",
        "plt.tight_layout()\n",
        "plt.show()"
      ]
    },
    {
      "cell_type": "code",
      "execution_count": 127,
      "metadata": {
        "colab": {
          "base_uri": "https://localhost:8080/"
        },
        "id": "pgWYzjNpktKO",
        "outputId": "91fee4ff-419d-402d-aacf-ce92e0f59e66"
      },
      "outputs": [
        {
          "name": "stdout",
          "output_type": "stream",
          "text": [
            "No of Patients by Gender for Each Predicted Label Column:\n"
          ]
        },
        {
          "data": {
            "text/html": [
              "<div>\n",
              "<style scoped>\n",
              "    .dataframe tbody tr th:only-of-type {\n",
              "        vertical-align: middle;\n",
              "    }\n",
              "\n",
              "    .dataframe tbody tr th {\n",
              "        vertical-align: top;\n",
              "    }\n",
              "\n",
              "    .dataframe thead th {\n",
              "        text-align: right;\n",
              "    }\n",
              "</style>\n",
              "<table border=\"1\" class=\"dataframe\">\n",
              "  <thead>\n",
              "    <tr style=\"text-align: right;\">\n",
              "      <th></th>\n",
              "      <th>F</th>\n",
              "      <th>UNKNOWN</th>\n",
              "      <th>M</th>\n",
              "    </tr>\n",
              "  </thead>\n",
              "  <tbody>\n",
              "    <tr>\n",
              "      <th>pred_0_label</th>\n",
              "      <td>3067</td>\n",
              "      <td>324</td>\n",
              "      <td>2543</td>\n",
              "    </tr>\n",
              "    <tr>\n",
              "      <th>pred_1_label</th>\n",
              "      <td>2197</td>\n",
              "      <td>246</td>\n",
              "      <td>2755</td>\n",
              "    </tr>\n",
              "    <tr>\n",
              "      <th>pred_2_label</th>\n",
              "      <td>24</td>\n",
              "      <td>1</td>\n",
              "      <td>24</td>\n",
              "    </tr>\n",
              "    <tr>\n",
              "      <th>pred_3_label</th>\n",
              "      <td>0</td>\n",
              "      <td>0</td>\n",
              "      <td>0</td>\n",
              "    </tr>\n",
              "    <tr>\n",
              "      <th>pred_4_label</th>\n",
              "      <td>1417</td>\n",
              "      <td>206</td>\n",
              "      <td>2007</td>\n",
              "    </tr>\n",
              "    <tr>\n",
              "      <th>pred_5_label</th>\n",
              "      <td>14114</td>\n",
              "      <td>1427</td>\n",
              "      <td>12894</td>\n",
              "    </tr>\n",
              "  </tbody>\n",
              "</table>\n",
              "</div>"
            ],
            "text/plain": [
              "                  F  UNKNOWN      M\n",
              "pred_0_label   3067      324   2543\n",
              "pred_1_label   2197      246   2755\n",
              "pred_2_label     24        1     24\n",
              "pred_3_label      0        0      0\n",
              "pred_4_label   1417      206   2007\n",
              "pred_5_label  14114     1427  12894"
            ]
          },
          "execution_count": 127,
          "metadata": {},
          "output_type": "execute_result"
        }
      ],
      "source": [
        "non_zero_counts_gender_df = pd.DataFrame(non_zero_counts_gender)\n",
        "\n",
        "print(\"No of Patients by Gender for Each Predicted Label Column:\")\n",
        "non_zero_counts_gender_df"
      ]
    },
    {
      "cell_type": "code",
      "execution_count": 128,
      "metadata": {},
      "outputs": [
        {
          "name": "stdout",
          "output_type": "stream",
          "text": [
            "\n",
            "Statistics for No. of patients by Gender:\n"
          ]
        },
        {
          "data": {
            "text/html": [
              "<div>\n",
              "<style scoped>\n",
              "    .dataframe tbody tr th:only-of-type {\n",
              "        vertical-align: middle;\n",
              "    }\n",
              "\n",
              "    .dataframe tbody tr th {\n",
              "        vertical-align: top;\n",
              "    }\n",
              "\n",
              "    .dataframe thead th {\n",
              "        text-align: right;\n",
              "    }\n",
              "</style>\n",
              "<table border=\"1\" class=\"dataframe\">\n",
              "  <thead>\n",
              "    <tr style=\"text-align: right;\">\n",
              "      <th></th>\n",
              "      <th>count</th>\n",
              "      <th>mean</th>\n",
              "      <th>std</th>\n",
              "      <th>min</th>\n",
              "      <th>25%</th>\n",
              "      <th>50%</th>\n",
              "      <th>75%</th>\n",
              "      <th>max</th>\n",
              "    </tr>\n",
              "  </thead>\n",
              "  <tbody>\n",
              "    <tr>\n",
              "      <th>F</th>\n",
              "      <td>6.0</td>\n",
              "      <td>3469.833333</td>\n",
              "      <td>5351.790333</td>\n",
              "      <td>0.0</td>\n",
              "      <td>372.25</td>\n",
              "      <td>1807.0</td>\n",
              "      <td>2849.5</td>\n",
              "      <td>14114.0</td>\n",
              "    </tr>\n",
              "    <tr>\n",
              "      <th>UNKNOWN</th>\n",
              "      <td>6.0</td>\n",
              "      <td>367.333333</td>\n",
              "      <td>535.659469</td>\n",
              "      <td>0.0</td>\n",
              "      <td>52.25</td>\n",
              "      <td>226.0</td>\n",
              "      <td>304.5</td>\n",
              "      <td>1427.0</td>\n",
              "    </tr>\n",
              "    <tr>\n",
              "      <th>M</th>\n",
              "      <td>6.0</td>\n",
              "      <td>3370.500000</td>\n",
              "      <td>4820.355039</td>\n",
              "      <td>0.0</td>\n",
              "      <td>519.75</td>\n",
              "      <td>2275.0</td>\n",
              "      <td>2702.0</td>\n",
              "      <td>12894.0</td>\n",
              "    </tr>\n",
              "  </tbody>\n",
              "</table>\n",
              "</div>"
            ],
            "text/plain": [
              "         count         mean          std  min     25%     50%     75%      max\n",
              "F          6.0  3469.833333  5351.790333  0.0  372.25  1807.0  2849.5  14114.0\n",
              "UNKNOWN    6.0   367.333333   535.659469  0.0   52.25   226.0   304.5   1427.0\n",
              "M          6.0  3370.500000  4820.355039  0.0  519.75  2275.0  2702.0  12894.0"
            ]
          },
          "execution_count": 128,
          "metadata": {},
          "output_type": "execute_result"
        }
      ],
      "source": [
        "gender_stats = non_zero_counts_gender_df.describe().T\n",
        "print(\"\\nStatistics for No. of patients by Gender:\")\n",
        "gender_stats"
      ]
    }
  ],
  "metadata": {
    "colab": {
      "provenance": []
    },
    "kernelspec": {
      "display_name": "Python 3",
      "name": "python3"
    },
    "language_info": {
      "codemirror_mode": {
        "name": "ipython",
        "version": 3
      },
      "file_extension": ".py",
      "mimetype": "text/x-python",
      "name": "python",
      "nbconvert_exporter": "python",
      "pygments_lexer": "ipython3",
      "version": "3.11.9"
    }
  },
  "nbformat": 4,
  "nbformat_minor": 0
}
